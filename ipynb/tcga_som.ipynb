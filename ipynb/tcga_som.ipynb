{
  "cells": [
    {
      "cell_type": "code",
      "source": [
        "import numpy as np\n",
        "import pandas as pd\n",
        "import sompy\n",
        "from load_data import *\n",
        "from util import *"
      ],
      "outputs": [],
      "execution_count": 1,
      "metadata": {
        "collapsed": false,
        "outputHidden": false,
        "inputHidden": false
      }
    },
    {
      "cell_type": "code",
      "source": [
        "path = '/media/clo302/3TB_RAID/data/tcga_embedding/'\n",
        "ref_path = '/media/clo302/3TB_RAID/ref/TCGA_RNASeq/'\n",
        "rawlog2 = load_raw(ref_path)\n",
        "rawlog2.shape"
      ],
      "outputs": [
        {
          "output_type": "execute_result",
          "execution_count": 2,
          "data": {
            "text/plain": [
              "(9544, 20531)"
            ]
          },
          "metadata": {}
        }
      ],
      "execution_count": 2,
      "metadata": {
        "collapsed": false,
        "outputHidden": false,
        "inputHidden": false
      }
    },
    {
      "cell_type": "code",
      "source": [
        "_, genes, _, sids_CN = load_data(path,  ['gemb_CN.csv', 'semb_CN.csv'], return_rn=True)"
      ],
      "outputs": [
        {
          "output_type": "stream",
          "name": "stdout",
          "text": [
            "(20531, 50)\n",
            "(9544, 50)\n"
          ]
        }
      ],
      "execution_count": 3,
      "metadata": {
        "collapsed": false,
        "outputHidden": false,
        "inputHidden": false
      }
    },
    {
      "cell_type": "code",
      "source": [
        "gene2idx = {g:i for i, g in enumerate(genes)}\n",
        "sid2ca, ca_cats = load_sid2ca(ref_path)"
      ],
      "outputs": [
        {
          "output_type": "stream",
          "name": "stdout",
          "text": [
            "len: 10245\n"
          ]
        }
      ],
      "execution_count": 4,
      "metadata": {
        "collapsed": false,
        "outputHidden": false,
        "inputHidden": false
      }
    },
    {
      "cell_type": "markdown",
      "source": [
        "### SOM"
      ],
      "metadata": {}
    },
    {
      "cell_type": "code",
      "source": [
        "som_g_pca = sompy.SOMFactory.build(rawlog2, mapsize=[1,50], initialization='pca')\n",
        "som_g_pca.train(n_job=16, verbose='info')\n",
        "som_g_wgts_pca = pd.DataFrame(som_g_pca.codebook.matrix.T, index=genes)\n",
        "print(som_g_wgts_pca.shape)\n",
        "som_g_wgts_pca.to_csv(path+'som_pca_gwgts.csv')"
      ],
      "outputs": [
        {
          "output_type": "stream",
          "name": "stderr",
          "text": [
            " Training...\n",
            " pca_linear_initialization took: 6.996000 seconds\n",
            " Rough training...\n",
            " radius_ini: 4.000000 , radius_final: 1.000000, trainlen: 2\n",
            "\n",
            " epoch: 1 ---> elapsed time:  6.442000, quantization error: 135.144318\n",
            "\n",
            " epoch: 2 ---> elapsed time:  6.152000, quantization error: 134.785753\n",
            "\n",
            " Finetune training...\n",
            " radius_ini: 1.000000 , radius_final: 1.000000, trainlen: 3\n",
            "\n",
            " epoch: 1 ---> elapsed time:  5.320000, quantization error: 127.900612\n",
            "\n",
            " epoch: 2 ---> elapsed time:  5.571000, quantization error: 116.401711\n",
            "\n",
            " epoch: 3 ---> elapsed time:  5.668000, quantization error: 113.340173\n",
            "\n",
            " Final quantization error: 113.340173\n",
            " train took: 36.959000 seconds\n"
          ]
        },
        {
          "output_type": "stream",
          "name": "stdout",
          "text": [
            "(20531, 50)\n"
          ]
        }
      ],
      "execution_count": 5,
      "metadata": {
        "collapsed": false,
        "outputHidden": false,
        "inputHidden": false
      }
    },
    {
      "cell_type": "code",
      "source": [
        "som_g_rand = sompy.SOMFactory.build(rawlog2, mapsize=[1,50], initialization='random')\n",
        "som_g_rand.train(n_job=16, verbose='info')\n",
        "som_g_wgts_rand = pd.DataFrame(som_g_rand.codebook.matrix.T, index=genes)\n",
        "print(som_g_wgts_rand.shape)\n",
        "som_g_wgts_rand.to_csv(path+'som_rand_gwgts.csv')"
      ],
      "outputs": [
        {
          "output_type": "stream",
          "name": "stderr",
          "text": [
            " Training...\n",
            " random_initialization took: 0.517000 seconds\n",
            " Rough training...\n",
            " radius_ini: 9.000000 , radius_final: 1.500000, trainlen: 2\n",
            "\n",
            " epoch: 1 ---> elapsed time:  5.514000, quantization error: 621.758059\n",
            "\n",
            " epoch: 2 ---> elapsed time:  5.552000, quantization error: 138.291797\n",
            "\n",
            " Finetune training...\n",
            " radius_ini: 2.083333 , radius_final: 1.000000, trainlen: 3\n",
            "\n",
            " epoch: 1 ---> elapsed time:  5.040000, quantization error: 132.991429\n",
            "\n",
            " epoch: 2 ---> elapsed time:  5.482000, quantization error: 125.213353\n",
            "\n",
            " epoch: 3 ---> elapsed time:  5.472000, quantization error: 118.466952\n",
            "\n",
            " Final quantization error: 118.466952\n",
            " train took: 28.119000 seconds\n"
          ]
        },
        {
          "output_type": "stream",
          "name": "stdout",
          "text": [
            "(20531, 50)\n"
          ]
        }
      ],
      "execution_count": 6,
      "metadata": {
        "collapsed": false,
        "outputHidden": false,
        "inputHidden": false
      }
    },
    {
      "cell_type": "code",
      "source": [
        "som_s_pca = sompy.SOMFactory.build(rawlog2.T, mapsize=[1,50], initialization='pca')\n",
        "som_s_pca.train(n_job=16, verbose='info')\n",
        "som_s_wgts_pca = pd.DataFrame(som_s_pca.codebook.matrix.T, index=sids_CN)\n",
        "print(som_s_wgts_pca.shape)\n",
        "som_s_wgts_pca.to_csv(path+'som_pca_swgts.csv')"
      ],
      "outputs": [
        {
          "output_type": "stream",
          "name": "stderr",
          "text": [
            " Training...\n",
            " pca_linear_initialization took: 6.769000 seconds\n",
            " Rough training...\n",
            " radius_ini: 4.000000 , radius_final: 1.000000, trainlen: 1\n",
            "\n",
            " epoch: 1 ---> elapsed time:  1.003000, quantization error: 95.013798\n",
            "\n",
            " Finetune training...\n",
            " radius_ini: 1.000000 , radius_final: 1.000000, trainlen: 1\n",
            "\n",
            " epoch: 1 ---> elapsed time:  0.629000, quantization error: 55.887064\n",
            "\n",
            " Final quantization error: 55.887064\n",
            " train took: 9.109000 seconds\n"
          ]
        },
        {
          "output_type": "stream",
          "name": "stdout",
          "text": [
            "(9544, 50)\n"
          ]
        }
      ],
      "execution_count": 7,
      "metadata": {
        "collapsed": false,
        "outputHidden": false,
        "inputHidden": false
      }
    },
    {
      "cell_type": "code",
      "source": [
        "som_s_rand = sompy.SOMFactory.build(rawlog2.T, mapsize=[1,50], initialization='random')\n",
        "som_s_rand.train(n_job=16, verbose='info')\n",
        "som_s_wgts_rand = pd.DataFrame(som_s_rand.codebook.matrix.T, index=sids_CN)\n",
        "print(som_s_wgts_rand.shape)\n",
        "som_s_wgts_rand.to_csv(path+'som_rand_swgts.csv')"
      ],
      "outputs": [
        {
          "output_type": "stream",
          "name": "stderr",
          "text": [
            " Training...\n",
            " random_initialization took: 0.494000 seconds\n",
            " Rough training...\n",
            " radius_ini: 9.000000 , radius_final: 1.500000, trainlen: 1\n",
            "\n",
            " epoch: 1 ---> elapsed time:  1.433000, quantization error: 174.613934\n",
            "\n",
            " Finetune training...\n",
            " radius_ini: 2.083333 , radius_final: 1.000000, trainlen: 2\n",
            "\n",
            " epoch: 1 ---> elapsed time:  0.652000, quantization error: 57.315367\n",
            "\n",
            " epoch: 2 ---> elapsed time:  0.631000, quantization error: 37.174060\n",
            "\n",
            " Final quantization error: 37.174060\n",
            " train took: 3.642000 seconds\n"
          ]
        },
        {
          "output_type": "stream",
          "name": "stdout",
          "text": [
            "(9544, 50)\n"
          ]
        }
      ],
      "execution_count": 8,
      "metadata": {
        "collapsed": false,
        "outputHidden": false,
        "inputHidden": false
      }
    },
    {
      "cell_type": "code",
      "source": [],
      "outputs": [],
      "execution_count": null,
      "metadata": {
        "collapsed": false,
        "outputHidden": false,
        "inputHidden": false
      }
    }
  ],
  "metadata": {
    "kernelspec": {
      "name": "python3",
      "language": "python",
      "display_name": "Python 3"
    },
    "kernel_info": {
      "name": "python3"
    },
    "language_info": {
      "name": "python",
      "version": "3.6.4",
      "mimetype": "text/x-python",
      "codemirror_mode": {
        "name": "ipython",
        "version": 3
      },
      "pygments_lexer": "ipython3",
      "nbconvert_exporter": "python",
      "file_extension": ".py"
    },
    "nteract": {
      "version": "0.4.1"
    }
  },
  "nbformat": 4,
  "nbformat_minor": 4
}