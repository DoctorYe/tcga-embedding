{
 "cells": [
  {
   "cell_type": "markdown",
   "metadata": {
    "heading_collapsed": true
   },
   "source": [
    "# TCGA RNA-Seq RSEM normalized Collaborative Filtering"
   ]
  },
  {
   "cell_type": "code",
   "execution_count": 1,
   "metadata": {
    "hidden": true
   },
   "outputs": [],
   "source": [
    "%reload_ext autoreload\n",
    "%autoreload 2\n",
    "%matplotlib inline\n",
    "\n",
    "from fastai.learner import *\n",
    "from fastai.column_data import *\n",
    "\n",
    "import pandas as pd\n",
    "import numpy as np"
   ]
  },
  {
   "cell_type": "code",
   "execution_count": 2,
   "metadata": {
    "hidden": true
   },
   "outputs": [],
   "source": [
    "path='~/data/tcga/'"
   ]
  },
  {
   "cell_type": "markdown",
   "metadata": {},
   "source": [
    "## Preprocessing"
   ]
  },
  {
   "cell_type": "markdown",
   "metadata": {},
   "source": [
    "### subset"
   ]
  },
  {
   "cell_type": "code",
   "execution_count": 3,
   "metadata": {
    "hidden": true
   },
   "outputs": [
    {
     "data": {
      "text/html": [
       "<div>\n",
       "<style scoped>\n",
       "    .dataframe tbody tr th:only-of-type {\n",
       "        vertical-align: middle;\n",
       "    }\n",
       "\n",
       "    .dataframe tbody tr th {\n",
       "        vertical-align: top;\n",
       "    }\n",
       "\n",
       "    .dataframe thead th {\n",
       "        text-align: right;\n",
       "    }\n",
       "</style>\n",
       "<table border=\"1\" class=\"dataframe\">\n",
       "  <thead>\n",
       "    <tr style=\"text-align: right;\">\n",
       "      <th></th>\n",
       "      <th>LOC100130426</th>\n",
       "      <th>UBE2Q2P3</th>\n",
       "      <th>UBE2Q2P2</th>\n",
       "      <th>HMGB1P1</th>\n",
       "      <th>TIMM23</th>\n",
       "      <th>MOXD2</th>\n",
       "      <th>LOC155060</th>\n",
       "      <th>RNU12-2P</th>\n",
       "      <th>SSX9</th>\n",
       "      <th>LOC317712</th>\n",
       "      <th>...</th>\n",
       "      <th>ZXDB</th>\n",
       "      <th>ZXDC</th>\n",
       "      <th>ZYG11A</th>\n",
       "      <th>ZYG11B</th>\n",
       "      <th>ZYX</th>\n",
       "      <th>ZZEF1</th>\n",
       "      <th>ZZZ3</th>\n",
       "      <th>psiTPTE22</th>\n",
       "      <th>tAKR</th>\n",
       "      <th>cancer</th>\n",
       "    </tr>\n",
       "  </thead>\n",
       "  <tbody>\n",
       "    <tr>\n",
       "      <th>TCGA-2A-A8VL-01A-21R-A37L-07</th>\n",
       "      <td>0.0</td>\n",
       "      <td>4.375165</td>\n",
       "      <td>4.117130</td>\n",
       "      <td>6.338271</td>\n",
       "      <td>10.356474</td>\n",
       "      <td>0.0</td>\n",
       "      <td>8.299844</td>\n",
       "      <td>0.000000</td>\n",
       "      <td>0.0</td>\n",
       "      <td>0.0</td>\n",
       "      <td>...</td>\n",
       "      <td>8.150981</td>\n",
       "      <td>10.105178</td>\n",
       "      <td>5.251908</td>\n",
       "      <td>9.434774</td>\n",
       "      <td>11.169806</td>\n",
       "      <td>10.539810</td>\n",
       "      <td>8.980566</td>\n",
       "      <td>7.638647</td>\n",
       "      <td>0.000000</td>\n",
       "      <td>PRAD</td>\n",
       "    </tr>\n",
       "    <tr>\n",
       "      <th>TCGA-2A-A8VO-01A-11R-A37L-07</th>\n",
       "      <td>0.0</td>\n",
       "      <td>4.272068</td>\n",
       "      <td>3.798102</td>\n",
       "      <td>5.955957</td>\n",
       "      <td>9.754902</td>\n",
       "      <td>0.0</td>\n",
       "      <td>8.562890</td>\n",
       "      <td>0.000000</td>\n",
       "      <td>0.0</td>\n",
       "      <td>0.0</td>\n",
       "      <td>...</td>\n",
       "      <td>8.583033</td>\n",
       "      <td>9.826347</td>\n",
       "      <td>7.387885</td>\n",
       "      <td>9.562891</td>\n",
       "      <td>11.405313</td>\n",
       "      <td>9.738158</td>\n",
       "      <td>9.323495</td>\n",
       "      <td>8.188683</td>\n",
       "      <td>0.000000</td>\n",
       "      <td>PRAD</td>\n",
       "    </tr>\n",
       "    <tr>\n",
       "      <th>TCGA-2A-A8VT-01A-11R-A37L-07</th>\n",
       "      <td>0.0</td>\n",
       "      <td>5.611349</td>\n",
       "      <td>5.887579</td>\n",
       "      <td>6.561063</td>\n",
       "      <td>9.186661</td>\n",
       "      <td>0.0</td>\n",
       "      <td>9.511317</td>\n",
       "      <td>0.141302</td>\n",
       "      <td>0.0</td>\n",
       "      <td>0.0</td>\n",
       "      <td>...</td>\n",
       "      <td>9.226164</td>\n",
       "      <td>10.754531</td>\n",
       "      <td>5.475257</td>\n",
       "      <td>10.217726</td>\n",
       "      <td>10.583608</td>\n",
       "      <td>11.023235</td>\n",
       "      <td>10.423672</td>\n",
       "      <td>5.171103</td>\n",
       "      <td>-1.443791</td>\n",
       "      <td>PRAD</td>\n",
       "    </tr>\n",
       "    <tr>\n",
       "      <th>TCGA-2A-A8VV-01A-11R-A37L-07</th>\n",
       "      <td>0.0</td>\n",
       "      <td>4.441902</td>\n",
       "      <td>4.034550</td>\n",
       "      <td>6.756879</td>\n",
       "      <td>9.843444</td>\n",
       "      <td>0.0</td>\n",
       "      <td>7.889987</td>\n",
       "      <td>0.000000</td>\n",
       "      <td>0.0</td>\n",
       "      <td>0.0</td>\n",
       "      <td>...</td>\n",
       "      <td>8.718451</td>\n",
       "      <td>9.988854</td>\n",
       "      <td>6.010740</td>\n",
       "      <td>9.259221</td>\n",
       "      <td>11.578931</td>\n",
       "      <td>10.008104</td>\n",
       "      <td>10.034888</td>\n",
       "      <td>4.404563</td>\n",
       "      <td>0.000000</td>\n",
       "      <td>PRAD</td>\n",
       "    </tr>\n",
       "    <tr>\n",
       "      <th>TCGA-2A-A8VX-01A-11R-A37L-07</th>\n",
       "      <td>0.0</td>\n",
       "      <td>1.561937</td>\n",
       "      <td>3.110330</td>\n",
       "      <td>6.598782</td>\n",
       "      <td>9.701914</td>\n",
       "      <td>0.0</td>\n",
       "      <td>8.341960</td>\n",
       "      <td>0.000000</td>\n",
       "      <td>0.0</td>\n",
       "      <td>0.0</td>\n",
       "      <td>...</td>\n",
       "      <td>8.486776</td>\n",
       "      <td>9.957949</td>\n",
       "      <td>7.355339</td>\n",
       "      <td>9.468424</td>\n",
       "      <td>11.149634</td>\n",
       "      <td>9.709747</td>\n",
       "      <td>9.556007</td>\n",
       "      <td>3.765927</td>\n",
       "      <td>0.000000</td>\n",
       "      <td>PRAD</td>\n",
       "    </tr>\n",
       "  </tbody>\n",
       "</table>\n",
       "<p>5 rows × 20532 columns</p>\n",
       "</div>"
      ],
      "text/plain": [
       "                              LOC100130426  UBE2Q2P3  UBE2Q2P2   HMGB1P1  \\\n",
       "TCGA-2A-A8VL-01A-21R-A37L-07           0.0  4.375165  4.117130  6.338271   \n",
       "TCGA-2A-A8VO-01A-11R-A37L-07           0.0  4.272068  3.798102  5.955957   \n",
       "TCGA-2A-A8VT-01A-11R-A37L-07           0.0  5.611349  5.887579  6.561063   \n",
       "TCGA-2A-A8VV-01A-11R-A37L-07           0.0  4.441902  4.034550  6.756879   \n",
       "TCGA-2A-A8VX-01A-11R-A37L-07           0.0  1.561937  3.110330  6.598782   \n",
       "\n",
       "                                 TIMM23  MOXD2  LOC155060  RNU12-2P  SSX9  \\\n",
       "TCGA-2A-A8VL-01A-21R-A37L-07  10.356474    0.0   8.299844  0.000000   0.0   \n",
       "TCGA-2A-A8VO-01A-11R-A37L-07   9.754902    0.0   8.562890  0.000000   0.0   \n",
       "TCGA-2A-A8VT-01A-11R-A37L-07   9.186661    0.0   9.511317  0.141302   0.0   \n",
       "TCGA-2A-A8VV-01A-11R-A37L-07   9.843444    0.0   7.889987  0.000000   0.0   \n",
       "TCGA-2A-A8VX-01A-11R-A37L-07   9.701914    0.0   8.341960  0.000000   0.0   \n",
       "\n",
       "                              LOC317712   ...        ZXDB       ZXDC  \\\n",
       "TCGA-2A-A8VL-01A-21R-A37L-07        0.0   ...    8.150981  10.105178   \n",
       "TCGA-2A-A8VO-01A-11R-A37L-07        0.0   ...    8.583033   9.826347   \n",
       "TCGA-2A-A8VT-01A-11R-A37L-07        0.0   ...    9.226164  10.754531   \n",
       "TCGA-2A-A8VV-01A-11R-A37L-07        0.0   ...    8.718451   9.988854   \n",
       "TCGA-2A-A8VX-01A-11R-A37L-07        0.0   ...    8.486776   9.957949   \n",
       "\n",
       "                                ZYG11A     ZYG11B        ZYX      ZZEF1  \\\n",
       "TCGA-2A-A8VL-01A-21R-A37L-07  5.251908   9.434774  11.169806  10.539810   \n",
       "TCGA-2A-A8VO-01A-11R-A37L-07  7.387885   9.562891  11.405313   9.738158   \n",
       "TCGA-2A-A8VT-01A-11R-A37L-07  5.475257  10.217726  10.583608  11.023235   \n",
       "TCGA-2A-A8VV-01A-11R-A37L-07  6.010740   9.259221  11.578931  10.008104   \n",
       "TCGA-2A-A8VX-01A-11R-A37L-07  7.355339   9.468424  11.149634   9.709747   \n",
       "\n",
       "                                   ZZZ3  psiTPTE22      tAKR  cancer  \n",
       "TCGA-2A-A8VL-01A-21R-A37L-07   8.980566   7.638647  0.000000    PRAD  \n",
       "TCGA-2A-A8VO-01A-11R-A37L-07   9.323495   8.188683  0.000000    PRAD  \n",
       "TCGA-2A-A8VT-01A-11R-A37L-07  10.423672   5.171103 -1.443791    PRAD  \n",
       "TCGA-2A-A8VV-01A-11R-A37L-07  10.034888   4.404563  0.000000    PRAD  \n",
       "TCGA-2A-A8VX-01A-11R-A37L-07   9.556007   3.765927  0.000000    PRAD  \n",
       "\n",
       "[5 rows x 20532 columns]"
      ]
     },
     "execution_count": 3,
     "metadata": {},
     "output_type": "execute_result"
    }
   ],
   "source": [
    "df = pd.read_csv(path+'full.csv', sep=',', low_memory=False, index_col=[0]); df.head()"
   ]
  },
  {
   "cell_type": "code",
   "execution_count": 4,
   "metadata": {},
   "outputs": [],
   "source": [
    "dupabbr = ['KIPAN', 'COADREAD', 'STES', 'GBMLGG']\n",
    "df = df.loc[~df['cancer'].isin(dupabbr)]\n",
    "sids = list(df.index)\n",
    "df = df.assign(sid=sids)\n",
    "df = df.loc[df.sid.str.split('-', expand=True).loc[:,3].str[0] != str(1)]"
   ]
  },
  {
   "cell_type": "code",
   "execution_count": 5,
   "metadata": {},
   "outputs": [
    {
     "data": {
      "text/html": [
       "<div>\n",
       "<style scoped>\n",
       "    .dataframe tbody tr th:only-of-type {\n",
       "        vertical-align: middle;\n",
       "    }\n",
       "\n",
       "    .dataframe tbody tr th {\n",
       "        vertical-align: top;\n",
       "    }\n",
       "\n",
       "    .dataframe thead th {\n",
       "        text-align: right;\n",
       "    }\n",
       "</style>\n",
       "<table border=\"1\" class=\"dataframe\">\n",
       "  <thead>\n",
       "    <tr style=\"text-align: right;\">\n",
       "      <th></th>\n",
       "      <th>LOC100130426</th>\n",
       "      <th>UBE2Q2P3</th>\n",
       "      <th>UBE2Q2P2</th>\n",
       "      <th>HMGB1P1</th>\n",
       "      <th>TIMM23</th>\n",
       "      <th>MOXD2</th>\n",
       "      <th>LOC155060</th>\n",
       "      <th>RNU12-2P</th>\n",
       "      <th>SSX9</th>\n",
       "      <th>LOC317712</th>\n",
       "      <th>...</th>\n",
       "      <th>ZXDC</th>\n",
       "      <th>ZYG11A</th>\n",
       "      <th>ZYG11B</th>\n",
       "      <th>ZYX</th>\n",
       "      <th>ZZEF1</th>\n",
       "      <th>ZZZ3</th>\n",
       "      <th>psiTPTE22</th>\n",
       "      <th>tAKR</th>\n",
       "      <th>cancer</th>\n",
       "      <th>sid</th>\n",
       "    </tr>\n",
       "  </thead>\n",
       "  <tbody>\n",
       "    <tr>\n",
       "      <th>0</th>\n",
       "      <td>0.0</td>\n",
       "      <td>4.375165</td>\n",
       "      <td>4.117130</td>\n",
       "      <td>6.338271</td>\n",
       "      <td>10.356474</td>\n",
       "      <td>0.0</td>\n",
       "      <td>8.299844</td>\n",
       "      <td>0.000000</td>\n",
       "      <td>0.0</td>\n",
       "      <td>0.0</td>\n",
       "      <td>...</td>\n",
       "      <td>10.105178</td>\n",
       "      <td>5.251908</td>\n",
       "      <td>9.434774</td>\n",
       "      <td>11.169806</td>\n",
       "      <td>10.539810</td>\n",
       "      <td>8.980566</td>\n",
       "      <td>7.638647</td>\n",
       "      <td>0.000000</td>\n",
       "      <td>PRAD</td>\n",
       "      <td>TCGA-2A-A8VL-01A-21R-A37L-07</td>\n",
       "    </tr>\n",
       "    <tr>\n",
       "      <th>1</th>\n",
       "      <td>0.0</td>\n",
       "      <td>4.272068</td>\n",
       "      <td>3.798102</td>\n",
       "      <td>5.955957</td>\n",
       "      <td>9.754902</td>\n",
       "      <td>0.0</td>\n",
       "      <td>8.562890</td>\n",
       "      <td>0.000000</td>\n",
       "      <td>0.0</td>\n",
       "      <td>0.0</td>\n",
       "      <td>...</td>\n",
       "      <td>9.826347</td>\n",
       "      <td>7.387885</td>\n",
       "      <td>9.562891</td>\n",
       "      <td>11.405313</td>\n",
       "      <td>9.738158</td>\n",
       "      <td>9.323495</td>\n",
       "      <td>8.188683</td>\n",
       "      <td>0.000000</td>\n",
       "      <td>PRAD</td>\n",
       "      <td>TCGA-2A-A8VO-01A-11R-A37L-07</td>\n",
       "    </tr>\n",
       "    <tr>\n",
       "      <th>2</th>\n",
       "      <td>0.0</td>\n",
       "      <td>5.611349</td>\n",
       "      <td>5.887579</td>\n",
       "      <td>6.561063</td>\n",
       "      <td>9.186661</td>\n",
       "      <td>0.0</td>\n",
       "      <td>9.511317</td>\n",
       "      <td>0.141302</td>\n",
       "      <td>0.0</td>\n",
       "      <td>0.0</td>\n",
       "      <td>...</td>\n",
       "      <td>10.754531</td>\n",
       "      <td>5.475257</td>\n",
       "      <td>10.217726</td>\n",
       "      <td>10.583608</td>\n",
       "      <td>11.023235</td>\n",
       "      <td>10.423672</td>\n",
       "      <td>5.171103</td>\n",
       "      <td>-1.443791</td>\n",
       "      <td>PRAD</td>\n",
       "      <td>TCGA-2A-A8VT-01A-11R-A37L-07</td>\n",
       "    </tr>\n",
       "    <tr>\n",
       "      <th>3</th>\n",
       "      <td>0.0</td>\n",
       "      <td>4.441902</td>\n",
       "      <td>4.034550</td>\n",
       "      <td>6.756879</td>\n",
       "      <td>9.843444</td>\n",
       "      <td>0.0</td>\n",
       "      <td>7.889987</td>\n",
       "      <td>0.000000</td>\n",
       "      <td>0.0</td>\n",
       "      <td>0.0</td>\n",
       "      <td>...</td>\n",
       "      <td>9.988854</td>\n",
       "      <td>6.010740</td>\n",
       "      <td>9.259221</td>\n",
       "      <td>11.578931</td>\n",
       "      <td>10.008104</td>\n",
       "      <td>10.034888</td>\n",
       "      <td>4.404563</td>\n",
       "      <td>0.000000</td>\n",
       "      <td>PRAD</td>\n",
       "      <td>TCGA-2A-A8VV-01A-11R-A37L-07</td>\n",
       "    </tr>\n",
       "    <tr>\n",
       "      <th>4</th>\n",
       "      <td>0.0</td>\n",
       "      <td>1.561937</td>\n",
       "      <td>3.110330</td>\n",
       "      <td>6.598782</td>\n",
       "      <td>9.701914</td>\n",
       "      <td>0.0</td>\n",
       "      <td>8.341960</td>\n",
       "      <td>0.000000</td>\n",
       "      <td>0.0</td>\n",
       "      <td>0.0</td>\n",
       "      <td>...</td>\n",
       "      <td>9.957949</td>\n",
       "      <td>7.355339</td>\n",
       "      <td>9.468424</td>\n",
       "      <td>11.149634</td>\n",
       "      <td>9.709747</td>\n",
       "      <td>9.556007</td>\n",
       "      <td>3.765927</td>\n",
       "      <td>0.000000</td>\n",
       "      <td>PRAD</td>\n",
       "      <td>TCGA-2A-A8VX-01A-11R-A37L-07</td>\n",
       "    </tr>\n",
       "  </tbody>\n",
       "</table>\n",
       "<p>5 rows × 20533 columns</p>\n",
       "</div>"
      ],
      "text/plain": [
       "   LOC100130426  UBE2Q2P3  UBE2Q2P2   HMGB1P1     TIMM23  MOXD2  LOC155060  \\\n",
       "0           0.0  4.375165  4.117130  6.338271  10.356474    0.0   8.299844   \n",
       "1           0.0  4.272068  3.798102  5.955957   9.754902    0.0   8.562890   \n",
       "2           0.0  5.611349  5.887579  6.561063   9.186661    0.0   9.511317   \n",
       "3           0.0  4.441902  4.034550  6.756879   9.843444    0.0   7.889987   \n",
       "4           0.0  1.561937  3.110330  6.598782   9.701914    0.0   8.341960   \n",
       "\n",
       "   RNU12-2P  SSX9  LOC317712              ...                    ZXDC  \\\n",
       "0  0.000000   0.0        0.0              ...               10.105178   \n",
       "1  0.000000   0.0        0.0              ...                9.826347   \n",
       "2  0.141302   0.0        0.0              ...               10.754531   \n",
       "3  0.000000   0.0        0.0              ...                9.988854   \n",
       "4  0.000000   0.0        0.0              ...                9.957949   \n",
       "\n",
       "     ZYG11A     ZYG11B        ZYX      ZZEF1       ZZZ3  psiTPTE22      tAKR  \\\n",
       "0  5.251908   9.434774  11.169806  10.539810   8.980566   7.638647  0.000000   \n",
       "1  7.387885   9.562891  11.405313   9.738158   9.323495   8.188683  0.000000   \n",
       "2  5.475257  10.217726  10.583608  11.023235  10.423672   5.171103 -1.443791   \n",
       "3  6.010740   9.259221  11.578931  10.008104  10.034888   4.404563  0.000000   \n",
       "4  7.355339   9.468424  11.149634   9.709747   9.556007   3.765927  0.000000   \n",
       "\n",
       "   cancer                           sid  \n",
       "0    PRAD  TCGA-2A-A8VL-01A-21R-A37L-07  \n",
       "1    PRAD  TCGA-2A-A8VO-01A-11R-A37L-07  \n",
       "2    PRAD  TCGA-2A-A8VT-01A-11R-A37L-07  \n",
       "3    PRAD  TCGA-2A-A8VV-01A-11R-A37L-07  \n",
       "4    PRAD  TCGA-2A-A8VX-01A-11R-A37L-07  \n",
       "\n",
       "[5 rows x 20533 columns]"
      ]
     },
     "execution_count": 5,
     "metadata": {},
     "output_type": "execute_result"
    }
   ],
   "source": [
    "df = df.reset_index(); df = df.drop(columns=['index']); df.head()"
   ]
  },
  {
   "cell_type": "code",
   "execution_count": 6,
   "metadata": {},
   "outputs": [
    {
     "data": {
      "text/plain": [
       "9544"
      ]
     },
     "execution_count": 6,
     "metadata": {},
     "output_type": "execute_result"
    }
   ],
   "source": [
    "len(df)"
   ]
  },
  {
   "cell_type": "markdown",
   "metadata": {},
   "source": [
    "### Melt"
   ]
  },
  {
   "cell_type": "code",
   "execution_count": 7,
   "metadata": {},
   "outputs": [
    {
     "data": {
      "text/html": [
       "<div>\n",
       "<style scoped>\n",
       "    .dataframe tbody tr th:only-of-type {\n",
       "        vertical-align: middle;\n",
       "    }\n",
       "\n",
       "    .dataframe tbody tr th {\n",
       "        vertical-align: top;\n",
       "    }\n",
       "\n",
       "    .dataframe thead th {\n",
       "        text-align: right;\n",
       "    }\n",
       "</style>\n",
       "<table border=\"1\" class=\"dataframe\">\n",
       "  <thead>\n",
       "    <tr style=\"text-align: right;\">\n",
       "      <th></th>\n",
       "      <th>sid</th>\n",
       "      <th>cancer</th>\n",
       "      <th>gene</th>\n",
       "      <th>log2exp</th>\n",
       "    </tr>\n",
       "  </thead>\n",
       "  <tbody>\n",
       "    <tr>\n",
       "      <th>0</th>\n",
       "      <td>TCGA-2A-A8VL-01A-21R-A37L-07</td>\n",
       "      <td>PRAD</td>\n",
       "      <td>LOC100130426</td>\n",
       "      <td>0.0</td>\n",
       "    </tr>\n",
       "    <tr>\n",
       "      <th>1</th>\n",
       "      <td>TCGA-2A-A8VO-01A-11R-A37L-07</td>\n",
       "      <td>PRAD</td>\n",
       "      <td>LOC100130426</td>\n",
       "      <td>0.0</td>\n",
       "    </tr>\n",
       "    <tr>\n",
       "      <th>2</th>\n",
       "      <td>TCGA-2A-A8VT-01A-11R-A37L-07</td>\n",
       "      <td>PRAD</td>\n",
       "      <td>LOC100130426</td>\n",
       "      <td>0.0</td>\n",
       "    </tr>\n",
       "    <tr>\n",
       "      <th>3</th>\n",
       "      <td>TCGA-2A-A8VV-01A-11R-A37L-07</td>\n",
       "      <td>PRAD</td>\n",
       "      <td>LOC100130426</td>\n",
       "      <td>0.0</td>\n",
       "    </tr>\n",
       "    <tr>\n",
       "      <th>4</th>\n",
       "      <td>TCGA-2A-A8VX-01A-11R-A37L-07</td>\n",
       "      <td>PRAD</td>\n",
       "      <td>LOC100130426</td>\n",
       "      <td>0.0</td>\n",
       "    </tr>\n",
       "  </tbody>\n",
       "</table>\n",
       "</div>"
      ],
      "text/plain": [
       "                            sid cancer          gene  log2exp\n",
       "0  TCGA-2A-A8VL-01A-21R-A37L-07   PRAD  LOC100130426      0.0\n",
       "1  TCGA-2A-A8VO-01A-11R-A37L-07   PRAD  LOC100130426      0.0\n",
       "2  TCGA-2A-A8VT-01A-11R-A37L-07   PRAD  LOC100130426      0.0\n",
       "3  TCGA-2A-A8VV-01A-11R-A37L-07   PRAD  LOC100130426      0.0\n",
       "4  TCGA-2A-A8VX-01A-11R-A37L-07   PRAD  LOC100130426      0.0"
      ]
     },
     "execution_count": 7,
     "metadata": {},
     "output_type": "execute_result"
    }
   ],
   "source": [
    "mdf = pd.melt(df, id_vars=['sid', 'cancer'], var_name='gene', value_name='log2exp'); mdf.head()"
   ]
  },
  {
   "cell_type": "markdown",
   "metadata": {
    "heading_collapsed": true
   },
   "source": [
    "## Collaborative filtering"
   ]
  },
  {
   "cell_type": "code",
   "execution_count": 8,
   "metadata": {
    "hidden": true
   },
   "outputs": [],
   "source": [
    "val_idxs = get_cv_idxs(len(mdf))\n",
    "wd=2e-4\n",
    "n_factors = 50"
   ]
  },
  {
   "cell_type": "code",
   "execution_count": 9,
   "metadata": {
    "hidden": true
   },
   "outputs": [],
   "source": [
    "cd = CollabFilterDataset.from_data_frame(path, mdf, 'sid', 'gene', 'log2exp')\n",
    "learn = cd.get_learner(n_factors, val_idxs, 64, opt_fn=optim.Adam)"
   ]
  },
  {
   "cell_type": "code",
   "execution_count": 10,
   "metadata": {},
   "outputs": [
    {
     "data": {
      "application/vnd.jupyter.widget-view+json": {
       "model_id": "ca4eb00318ed4a9ca5c0ea288d684063",
       "version_major": 2,
       "version_minor": 0
      },
      "text/plain": [
       "HBox(children=(IntProgress(value=0, description='Epoch', max=1), HTML(value='')))"
      ]
     },
     "metadata": {},
     "output_type": "display_data"
    },
    {
     "name": "stdout",
     "output_type": "stream",
     "text": [
      " 41%|████      | 1002504/2449349 [54:53<1:19:13, 304.37it/s, loss=5.89]"
     ]
    }
   ],
   "source": [
    "learn.lr_find()"
   ]
  },
  {
   "cell_type": "code",
   "execution_count": 11,
   "metadata": {},
   "outputs": [
    {
     "data": {
      "image/png": "[encoded data removed]",
      "text/plain": [
       "<Figure size 432x288 with 1 Axes>"
      ]
     },
     "metadata": {},
     "output_type": "display_data"
    },
    {
     "name": "stdout",
     "output_type": "stream",
     "text": [
      "\r",
      " 41%|████      | 1002504/2449349 [55:10<1:19:37, 302.86it/s, loss=5.89]"
     ]
    }
   ],
   "source": [
    "learn.sched.plot(100)"
   ]
  },
  {
   "cell_type": "code",
   "execution_count": 10,
   "metadata": {
    "hidden": true,
    "scrolled": false
   },
   "outputs": [
    {
     "data": {
      "application/vnd.jupyter.widget-view+json": {
       "model_id": "113a09af571a4cb4bb02cf07ef082e6e",
       "version_major": 2,
       "version_minor": 0
      },
      "text/plain": [
       "HBox(children=(IntProgress(value=0, description='Epoch', max=3), HTML(value='')))"
      ]
     },
     "metadata": {},
     "output_type": "display_data"
    },
    {
     "name": "stdout",
     "output_type": "stream",
     "text": [
      "epoch      trn_loss   val_loss                                           \n",
      "    0      2.523097   2.418896  \n",
      "    1      1.420943   1.545511                                           \n",
      " 90%|████████▉ | 2203516/2449349 [2:07:56<14:16, 287.06it/s, loss=1.4]   "
     ]
    },
    {
     "name": "stderr",
     "output_type": "stream",
     "text": [
      "IOPub message rate exceeded.\n",
      "The notebook server will temporarily stop sending output\n",
      "to the client in order to avoid crashing it.\n",
      "To change this limit, set the config variable\n",
      "`--NotebookApp.iopub_msg_rate_limit`.\n",
      "\n",
      "Current values:\n",
      "NotebookApp.iopub_msg_rate_limit=1000.0 (msgs/sec)\n",
      "NotebookApp.rate_limit_window=3.0 (secs)\n",
      "\n"
     ]
    },
    {
     "name": "stdout",
     "output_type": "stream",
     "text": [
      "    2      1.471677   1.436919                                         \n",
      "\n"
     ]
    },
    {
     "data": {
      "text/plain": [
       "[array([1.43692])]"
      ]
     },
     "execution_count": 10,
     "metadata": {},
     "output_type": "execute_result"
    }
   ],
   "source": [
    "lr=2e-5\n",
    "learn.fit(lr, 2, cycle_len=1, cycle_mult=2)"
   ]
  },
  {
   "cell_type": "code",
   "execution_count": 5,
   "metadata": {
    "hidden": true
   },
   "outputs": [],
   "source": [
    "preds = learn.predict()"
   ]
  },
  {
   "cell_type": "code",
   "execution_count": 6,
   "metadata": {
    "hidden": true
   },
   "outputs": [
    {
     "name": "stderr",
     "output_type": "stream",
     "text": [
      "/home/paperspace/anaconda3/envs/fastai/lib/python3.6/site-packages/matplotlib/axes/_axes.py:6462: UserWarning: The 'normed' kwarg is deprecated, and has been replaced by the 'density' kwarg.\n",
      "  warnings.warn(\"The 'normed' kwarg is deprecated, and has been \"\n",
      "/home/paperspace/anaconda3/envs/fastai/lib/python3.6/site-packages/matplotlib/axes/_axes.py:6462: UserWarning: The 'normed' kwarg is deprecated, and has been replaced by the 'density' kwarg.\n",
      "  warnings.warn(\"The 'normed' kwarg is deprecated, and has been \"\n"
     ]
    },
    {
     "data": {
      "image/png": "[encoded data removed]",
      "text/plain": [
       "<Figure size 432x432 with 3 Axes>"
      ]
     },
     "metadata": {},
     "output_type": "display_data"
    }
   ],
   "source": [
    "y=learn.data.val_y\n",
    "# import seaborns as sns\n",
    "sns.jointplot(preds, y, kind='hex', stat_func=None);"
   ]
  },
  {
   "cell_type": "code",
   "execution_count": 11,
   "metadata": {},
   "outputs": [],
   "source": [
    "learn.save('tcga_collab_nonormal_nodup_new')"
   ]
  },
  {
   "cell_type": "markdown",
   "metadata": {},
   "source": [
    "## Analyze results"
   ]
  },
  {
   "cell_type": "markdown",
   "metadata": {},
   "source": [
    "#### shortcut to retrieve learner, model, df"
   ]
  },
  {
   "cell_type": "code",
   "execution_count": 3,
   "metadata": {},
   "outputs": [],
   "source": [
    "df = pd.read_csv(path+'full.csv', sep=',', low_memory=False, index_col=[0], error_bad_lines=False); df.head()\n",
    "dupabbr = ['KIPAN', 'COADREAD', 'STES', 'GBMLGG']\n",
    "df = df.loc[~df['cancer'].isin(dupabbr)]\n",
    "sids = list(df.index)\n",
    "df = df.assign(sid=sids)\n",
    "df = df.loc[df.sid.str.split('-', expand=True).loc[:,3].str[0] != str(1)]\n",
    "df = df.reset_index(); df = df.drop(columns=['index']); df.head()\n",
    "mdf = pd.melt(df, id_vars=['sid', 'cancer'], var_name='gene', value_name='log2exp'); mdf.head()\n",
    "val_idxs = get_cv_idxs(len(mdf))\n",
    "wd=2e-4\n",
    "n_factors = 50\n",
    "cd = CollabFilterDataset.from_data_frame(path, mdf, 'sid', 'gene', 'log2exp')\n",
    "learn = cd.get_learner(n_factors, val_idxs, 64, opt_fn=optim.Adam)\n",
    "learn.load('tcga_collab_nonormal_nodup_new')"
   ]
  },
  {
   "cell_type": "code",
   "execution_count": 12,
   "metadata": {},
   "outputs": [],
   "source": [
    "genes = list(df.columns[:-2])\n",
    "sids = list(df['sid'])\n",
    "cancers = list(df['cancer'])\n",
    "sid_ca = {s:c for s, c in zip(sids, cancers)}"
   ]
  },
  {
   "cell_type": "markdown",
   "metadata": {
    "heading_collapsed": true
   },
   "source": [
    "### Embedding interpretation"
   ]
  },
  {
   "cell_type": "markdown",
   "metadata": {},
   "source": [
    "### retrieve embeddings "
   ]
  },
  {
   "cell_type": "code",
   "execution_count": 13,
   "metadata": {},
   "outputs": [
    {
     "data": {
      "text/plain": [
       "EmbeddingDotBias(\n",
       "  (u): Embedding(9544, 50)\n",
       "  (i): Embedding(20531, 50)\n",
       "  (ub): Embedding(9544, 1)\n",
       "  (ib): Embedding(20531, 1)\n",
       ")"
      ]
     },
     "execution_count": 13,
     "metadata": {},
     "output_type": "execute_result"
    }
   ],
   "source": [
    "m=learn.model; m.cuda()"
   ]
  },
  {
   "cell_type": "markdown",
   "metadata": {},
   "source": [
    "#### gene embedding"
   ]
  },
  {
   "cell_type": "code",
   "execution_count": 14,
   "metadata": {},
   "outputs": [
    {
     "data": {
      "text/plain": [
       "(20531, 50)"
      ]
     },
     "execution_count": 14,
     "metadata": {},
     "output_type": "execute_result"
    }
   ],
   "source": [
    "geneidx = np.array([cd.item2idx[g] for g in genes])\n",
    "gene_emb = to_np(m.i(V(geneidx)))\n",
    "gene_emb.shape"
   ]
  },
  {
   "cell_type": "code",
   "execution_count": 15,
   "metadata": {},
   "outputs": [
    {
     "data": {
      "text/html": [
       "<div>\n",
       "<style scoped>\n",
       "    .dataframe tbody tr th:only-of-type {\n",
       "        vertical-align: middle;\n",
       "    }\n",
       "\n",
       "    .dataframe tbody tr th {\n",
       "        vertical-align: top;\n",
       "    }\n",
       "\n",
       "    .dataframe thead th {\n",
       "        text-align: right;\n",
       "    }\n",
       "</style>\n",
       "<table border=\"1\" class=\"dataframe\">\n",
       "  <thead>\n",
       "    <tr style=\"text-align: right;\">\n",
       "      <th></th>\n",
       "      <th>0</th>\n",
       "      <th>1</th>\n",
       "      <th>2</th>\n",
       "      <th>3</th>\n",
       "      <th>4</th>\n",
       "      <th>5</th>\n",
       "      <th>6</th>\n",
       "      <th>7</th>\n",
       "      <th>8</th>\n",
       "      <th>9</th>\n",
       "      <th>...</th>\n",
       "      <th>40</th>\n",
       "      <th>41</th>\n",
       "      <th>42</th>\n",
       "      <th>43</th>\n",
       "      <th>44</th>\n",
       "      <th>45</th>\n",
       "      <th>46</th>\n",
       "      <th>47</th>\n",
       "      <th>48</th>\n",
       "      <th>49</th>\n",
       "    </tr>\n",
       "  </thead>\n",
       "  <tbody>\n",
       "    <tr>\n",
       "      <th>LOC100130426</th>\n",
       "      <td>0.050513</td>\n",
       "      <td>-0.117977</td>\n",
       "      <td>0.110022</td>\n",
       "      <td>-0.090094</td>\n",
       "      <td>-0.122309</td>\n",
       "      <td>-0.125740</td>\n",
       "      <td>0.087562</td>\n",
       "      <td>0.133232</td>\n",
       "      <td>0.111338</td>\n",
       "      <td>0.106445</td>\n",
       "      <td>...</td>\n",
       "      <td>0.055437</td>\n",
       "      <td>-0.053704</td>\n",
       "      <td>-0.128381</td>\n",
       "      <td>-0.118636</td>\n",
       "      <td>0.087714</td>\n",
       "      <td>-0.127137</td>\n",
       "      <td>-0.008893</td>\n",
       "      <td>-0.158745</td>\n",
       "      <td>-0.130260</td>\n",
       "      <td>0.077341</td>\n",
       "    </tr>\n",
       "    <tr>\n",
       "      <th>UBE2Q2P3</th>\n",
       "      <td>-0.182780</td>\n",
       "      <td>-0.050989</td>\n",
       "      <td>0.109183</td>\n",
       "      <td>-0.018587</td>\n",
       "      <td>-0.038582</td>\n",
       "      <td>-0.024687</td>\n",
       "      <td>-0.030002</td>\n",
       "      <td>-0.014056</td>\n",
       "      <td>0.038890</td>\n",
       "      <td>0.045570</td>\n",
       "      <td>...</td>\n",
       "      <td>0.106412</td>\n",
       "      <td>-0.093677</td>\n",
       "      <td>-0.240158</td>\n",
       "      <td>-0.055662</td>\n",
       "      <td>-0.005101</td>\n",
       "      <td>0.233076</td>\n",
       "      <td>0.222636</td>\n",
       "      <td>-0.034910</td>\n",
       "      <td>-0.113200</td>\n",
       "      <td>0.146629</td>\n",
       "    </tr>\n",
       "    <tr>\n",
       "      <th>UBE2Q2P2</th>\n",
       "      <td>-0.075158</td>\n",
       "      <td>-0.028146</td>\n",
       "      <td>0.039178</td>\n",
       "      <td>0.051488</td>\n",
       "      <td>-0.071518</td>\n",
       "      <td>0.005934</td>\n",
       "      <td>0.012412</td>\n",
       "      <td>-0.044538</td>\n",
       "      <td>0.042433</td>\n",
       "      <td>0.006491</td>\n",
       "      <td>...</td>\n",
       "      <td>0.082935</td>\n",
       "      <td>-0.111572</td>\n",
       "      <td>-0.129055</td>\n",
       "      <td>-0.021232</td>\n",
       "      <td>0.037064</td>\n",
       "      <td>0.222434</td>\n",
       "      <td>0.159524</td>\n",
       "      <td>-0.029696</td>\n",
       "      <td>-0.097363</td>\n",
       "      <td>0.086356</td>\n",
       "    </tr>\n",
       "    <tr>\n",
       "      <th>HMGB1P1</th>\n",
       "      <td>0.033421</td>\n",
       "      <td>-0.042931</td>\n",
       "      <td>-0.059557</td>\n",
       "      <td>-0.077010</td>\n",
       "      <td>0.029606</td>\n",
       "      <td>-0.037036</td>\n",
       "      <td>-0.027840</td>\n",
       "      <td>0.012707</td>\n",
       "      <td>-0.016803</td>\n",
       "      <td>0.055761</td>\n",
       "      <td>...</td>\n",
       "      <td>-0.133849</td>\n",
       "      <td>0.047887</td>\n",
       "      <td>-0.049316</td>\n",
       "      <td>-0.064157</td>\n",
       "      <td>-0.024767</td>\n",
       "      <td>0.009029</td>\n",
       "      <td>-0.024305</td>\n",
       "      <td>0.028480</td>\n",
       "      <td>0.039291</td>\n",
       "      <td>-0.048234</td>\n",
       "    </tr>\n",
       "    <tr>\n",
       "      <th>TIMM23</th>\n",
       "      <td>0.146740</td>\n",
       "      <td>0.074023</td>\n",
       "      <td>-0.045334</td>\n",
       "      <td>-0.031548</td>\n",
       "      <td>0.073077</td>\n",
       "      <td>-0.012814</td>\n",
       "      <td>-0.058427</td>\n",
       "      <td>-0.025028</td>\n",
       "      <td>-0.127059</td>\n",
       "      <td>-0.082129</td>\n",
       "      <td>...</td>\n",
       "      <td>-0.074233</td>\n",
       "      <td>0.099868</td>\n",
       "      <td>0.038468</td>\n",
       "      <td>-0.041373</td>\n",
       "      <td>-0.063770</td>\n",
       "      <td>-0.053583</td>\n",
       "      <td>-0.006198</td>\n",
       "      <td>0.057763</td>\n",
       "      <td>0.120407</td>\n",
       "      <td>-0.056460</td>\n",
       "    </tr>\n",
       "  </tbody>\n",
       "</table>\n",
       "<p>5 rows × 50 columns</p>\n",
       "</div>"
      ],
      "text/plain": [
       "                    0         1         2         3         4         5   \\\n",
       "LOC100130426  0.050513 -0.117977  0.110022 -0.090094 -0.122309 -0.125740   \n",
       "UBE2Q2P3     -0.182780 -0.050989  0.109183 -0.018587 -0.038582 -0.024687   \n",
       "UBE2Q2P2     -0.075158 -0.028146  0.039178  0.051488 -0.071518  0.005934   \n",
       "HMGB1P1       0.033421 -0.042931 -0.059557 -0.077010  0.029606 -0.037036   \n",
       "TIMM23        0.146740  0.074023 -0.045334 -0.031548  0.073077 -0.012814   \n",
       "\n",
       "                    6         7         8         9     ...           40  \\\n",
       "LOC100130426  0.087562  0.133232  0.111338  0.106445    ...     0.055437   \n",
       "UBE2Q2P3     -0.030002 -0.014056  0.038890  0.045570    ...     0.106412   \n",
       "UBE2Q2P2      0.012412 -0.044538  0.042433  0.006491    ...     0.082935   \n",
       "HMGB1P1      -0.027840  0.012707 -0.016803  0.055761    ...    -0.133849   \n",
       "TIMM23       -0.058427 -0.025028 -0.127059 -0.082129    ...    -0.074233   \n",
       "\n",
       "                    41        42        43        44        45        46  \\\n",
       "LOC100130426 -0.053704 -0.128381 -0.118636  0.087714 -0.127137 -0.008893   \n",
       "UBE2Q2P3     -0.093677 -0.240158 -0.055662 -0.005101  0.233076  0.222636   \n",
       "UBE2Q2P2     -0.111572 -0.129055 -0.021232  0.037064  0.222434  0.159524   \n",
       "HMGB1P1       0.047887 -0.049316 -0.064157 -0.024767  0.009029 -0.024305   \n",
       "TIMM23        0.099868  0.038468 -0.041373 -0.063770 -0.053583 -0.006198   \n",
       "\n",
       "                    47        48        49  \n",
       "LOC100130426 -0.158745 -0.130260  0.077341  \n",
       "UBE2Q2P3     -0.034910 -0.113200  0.146629  \n",
       "UBE2Q2P2     -0.029696 -0.097363  0.086356  \n",
       "HMGB1P1       0.028480  0.039291 -0.048234  \n",
       "TIMM23        0.057763  0.120407 -0.056460  \n",
       "\n",
       "[5 rows x 50 columns]"
      ]
     },
     "execution_count": 15,
     "metadata": {},
     "output_type": "execute_result"
    }
   ],
   "source": [
    "gene_emb_df = pd.DataFrame(gene_emb, index=genes); gene_emb_df.head()"
   ]
  },
  {
   "cell_type": "code",
   "execution_count": 16,
   "metadata": {},
   "outputs": [],
   "source": [
    "gene_emb_df.to_csv(path+'gene_emb_CN_new.csv', sep=',')"
   ]
  },
  {
   "cell_type": "code",
   "execution_count": null,
   "metadata": {},
   "outputs": [],
   "source": [
    "gene_emb_bias = to_np(m.ib(V(geneidx)))\n",
    "gene_emb_bias_df = pd.DataFrame(gene_emb_bias, index=genes); gene_emb_bias_df.head()\n",
    "gene_emb_bias_df.to_csv(path+'gene_emb_CN_new_bias.csv')"
   ]
  },
  {
   "cell_type": "markdown",
   "metadata": {},
   "source": [
    "#### sample embedding "
   ]
  },
  {
   "cell_type": "code",
   "execution_count": 17,
   "metadata": {},
   "outputs": [
    {
     "data": {
      "text/plain": [
       "(9544, 50)"
      ]
     },
     "execution_count": 17,
     "metadata": {},
     "output_type": "execute_result"
    }
   ],
   "source": [
    "sampleidx = np.array([cd.user2idx[sid] for sid in sids])\n",
    "samp_emb = to_np(m.u(V(sampleidx)))\n",
    "samp_emb.shape"
   ]
  },
  {
   "cell_type": "code",
   "execution_count": 18,
   "metadata": {},
   "outputs": [
    {
     "data": {
      "text/html": [
       "<div>\n",
       "<style scoped>\n",
       "    .dataframe tbody tr th:only-of-type {\n",
       "        vertical-align: middle;\n",
       "    }\n",
       "\n",
       "    .dataframe tbody tr th {\n",
       "        vertical-align: top;\n",
       "    }\n",
       "\n",
       "    .dataframe thead th {\n",
       "        text-align: right;\n",
       "    }\n",
       "</style>\n",
       "<table border=\"1\" class=\"dataframe\">\n",
       "  <thead>\n",
       "    <tr style=\"text-align: right;\">\n",
       "      <th></th>\n",
       "      <th>0</th>\n",
       "      <th>1</th>\n",
       "      <th>2</th>\n",
       "      <th>3</th>\n",
       "      <th>4</th>\n",
       "      <th>5</th>\n",
       "      <th>6</th>\n",
       "      <th>7</th>\n",
       "      <th>8</th>\n",
       "      <th>9</th>\n",
       "      <th>...</th>\n",
       "      <th>40</th>\n",
       "      <th>41</th>\n",
       "      <th>42</th>\n",
       "      <th>43</th>\n",
       "      <th>44</th>\n",
       "      <th>45</th>\n",
       "      <th>46</th>\n",
       "      <th>47</th>\n",
       "      <th>48</th>\n",
       "      <th>49</th>\n",
       "    </tr>\n",
       "  </thead>\n",
       "  <tbody>\n",
       "    <tr>\n",
       "      <th>TCGA-2A-A8VL-01A-21R-A37L-07</th>\n",
       "      <td>-0.022406</td>\n",
       "      <td>0.089036</td>\n",
       "      <td>-0.029711</td>\n",
       "      <td>-0.103062</td>\n",
       "      <td>0.135620</td>\n",
       "      <td>0.116822</td>\n",
       "      <td>-0.255778</td>\n",
       "      <td>-0.269957</td>\n",
       "      <td>-0.070858</td>\n",
       "      <td>-0.110527</td>\n",
       "      <td>...</td>\n",
       "      <td>0.000209</td>\n",
       "      <td>0.203793</td>\n",
       "      <td>0.341037</td>\n",
       "      <td>0.276610</td>\n",
       "      <td>-0.171037</td>\n",
       "      <td>0.370404</td>\n",
       "      <td>-0.052283</td>\n",
       "      <td>0.208842</td>\n",
       "      <td>0.200567</td>\n",
       "      <td>-0.091652</td>\n",
       "    </tr>\n",
       "    <tr>\n",
       "      <th>TCGA-2A-A8VO-01A-11R-A37L-07</th>\n",
       "      <td>0.019864</td>\n",
       "      <td>0.079429</td>\n",
       "      <td>-0.026811</td>\n",
       "      <td>-0.166263</td>\n",
       "      <td>0.115723</td>\n",
       "      <td>0.238744</td>\n",
       "      <td>-0.228593</td>\n",
       "      <td>-0.179147</td>\n",
       "      <td>-0.113323</td>\n",
       "      <td>-0.083262</td>\n",
       "      <td>...</td>\n",
       "      <td>-0.000370</td>\n",
       "      <td>0.198950</td>\n",
       "      <td>0.328061</td>\n",
       "      <td>0.228008</td>\n",
       "      <td>-0.178069</td>\n",
       "      <td>0.284119</td>\n",
       "      <td>-0.116576</td>\n",
       "      <td>0.183606</td>\n",
       "      <td>0.143944</td>\n",
       "      <td>-0.056440</td>\n",
       "    </tr>\n",
       "    <tr>\n",
       "      <th>TCGA-2A-A8VT-01A-11R-A37L-07</th>\n",
       "      <td>-0.135329</td>\n",
       "      <td>0.124612</td>\n",
       "      <td>-0.044571</td>\n",
       "      <td>-0.062118</td>\n",
       "      <td>0.116239</td>\n",
       "      <td>0.166197</td>\n",
       "      <td>-0.279448</td>\n",
       "      <td>-0.256112</td>\n",
       "      <td>-0.123666</td>\n",
       "      <td>-0.044595</td>\n",
       "      <td>...</td>\n",
       "      <td>0.022338</td>\n",
       "      <td>0.171933</td>\n",
       "      <td>0.119638</td>\n",
       "      <td>0.152092</td>\n",
       "      <td>-0.195205</td>\n",
       "      <td>0.431459</td>\n",
       "      <td>-0.041833</td>\n",
       "      <td>0.184240</td>\n",
       "      <td>0.153330</td>\n",
       "      <td>-0.105726</td>\n",
       "    </tr>\n",
       "    <tr>\n",
       "      <th>TCGA-2A-A8VV-01A-11R-A37L-07</th>\n",
       "      <td>-0.024081</td>\n",
       "      <td>0.113953</td>\n",
       "      <td>-0.072417</td>\n",
       "      <td>-0.129229</td>\n",
       "      <td>0.146727</td>\n",
       "      <td>0.166847</td>\n",
       "      <td>-0.289360</td>\n",
       "      <td>-0.219512</td>\n",
       "      <td>-0.101056</td>\n",
       "      <td>-0.165783</td>\n",
       "      <td>...</td>\n",
       "      <td>0.014345</td>\n",
       "      <td>0.226505</td>\n",
       "      <td>0.252545</td>\n",
       "      <td>0.273411</td>\n",
       "      <td>-0.136340</td>\n",
       "      <td>0.415646</td>\n",
       "      <td>-0.125109</td>\n",
       "      <td>0.179495</td>\n",
       "      <td>0.215235</td>\n",
       "      <td>-0.061867</td>\n",
       "    </tr>\n",
       "    <tr>\n",
       "      <th>TCGA-2A-A8VX-01A-11R-A37L-07</th>\n",
       "      <td>0.149962</td>\n",
       "      <td>0.127858</td>\n",
       "      <td>-0.042393</td>\n",
       "      <td>-0.122737</td>\n",
       "      <td>0.116584</td>\n",
       "      <td>0.200117</td>\n",
       "      <td>-0.241627</td>\n",
       "      <td>-0.108605</td>\n",
       "      <td>-0.140876</td>\n",
       "      <td>-0.134693</td>\n",
       "      <td>...</td>\n",
       "      <td>-0.017443</td>\n",
       "      <td>0.205087</td>\n",
       "      <td>0.246886</td>\n",
       "      <td>0.225850</td>\n",
       "      <td>-0.173025</td>\n",
       "      <td>0.413153</td>\n",
       "      <td>-0.108838</td>\n",
       "      <td>0.226842</td>\n",
       "      <td>0.183256</td>\n",
       "      <td>-0.127880</td>\n",
       "    </tr>\n",
       "  </tbody>\n",
       "</table>\n",
       "<p>5 rows × 50 columns</p>\n",
       "</div>"
      ],
      "text/plain": [
       "                                    0         1         2         3   \\\n",
       "TCGA-2A-A8VL-01A-21R-A37L-07 -0.022406  0.089036 -0.029711 -0.103062   \n",
       "TCGA-2A-A8VO-01A-11R-A37L-07  0.019864  0.079429 -0.026811 -0.166263   \n",
       "TCGA-2A-A8VT-01A-11R-A37L-07 -0.135329  0.124612 -0.044571 -0.062118   \n",
       "TCGA-2A-A8VV-01A-11R-A37L-07 -0.024081  0.113953 -0.072417 -0.129229   \n",
       "TCGA-2A-A8VX-01A-11R-A37L-07  0.149962  0.127858 -0.042393 -0.122737   \n",
       "\n",
       "                                    4         5         6         7   \\\n",
       "TCGA-2A-A8VL-01A-21R-A37L-07  0.135620  0.116822 -0.255778 -0.269957   \n",
       "TCGA-2A-A8VO-01A-11R-A37L-07  0.115723  0.238744 -0.228593 -0.179147   \n",
       "TCGA-2A-A8VT-01A-11R-A37L-07  0.116239  0.166197 -0.279448 -0.256112   \n",
       "TCGA-2A-A8VV-01A-11R-A37L-07  0.146727  0.166847 -0.289360 -0.219512   \n",
       "TCGA-2A-A8VX-01A-11R-A37L-07  0.116584  0.200117 -0.241627 -0.108605   \n",
       "\n",
       "                                    8         9     ...           40  \\\n",
       "TCGA-2A-A8VL-01A-21R-A37L-07 -0.070858 -0.110527    ...     0.000209   \n",
       "TCGA-2A-A8VO-01A-11R-A37L-07 -0.113323 -0.083262    ...    -0.000370   \n",
       "TCGA-2A-A8VT-01A-11R-A37L-07 -0.123666 -0.044595    ...     0.022338   \n",
       "TCGA-2A-A8VV-01A-11R-A37L-07 -0.101056 -0.165783    ...     0.014345   \n",
       "TCGA-2A-A8VX-01A-11R-A37L-07 -0.140876 -0.134693    ...    -0.017443   \n",
       "\n",
       "                                    41        42        43        44  \\\n",
       "TCGA-2A-A8VL-01A-21R-A37L-07  0.203793  0.341037  0.276610 -0.171037   \n",
       "TCGA-2A-A8VO-01A-11R-A37L-07  0.198950  0.328061  0.228008 -0.178069   \n",
       "TCGA-2A-A8VT-01A-11R-A37L-07  0.171933  0.119638  0.152092 -0.195205   \n",
       "TCGA-2A-A8VV-01A-11R-A37L-07  0.226505  0.252545  0.273411 -0.136340   \n",
       "TCGA-2A-A8VX-01A-11R-A37L-07  0.205087  0.246886  0.225850 -0.173025   \n",
       "\n",
       "                                    45        46        47        48        49  \n",
       "TCGA-2A-A8VL-01A-21R-A37L-07  0.370404 -0.052283  0.208842  0.200567 -0.091652  \n",
       "TCGA-2A-A8VO-01A-11R-A37L-07  0.284119 -0.116576  0.183606  0.143944 -0.056440  \n",
       "TCGA-2A-A8VT-01A-11R-A37L-07  0.431459 -0.041833  0.184240  0.153330 -0.105726  \n",
       "TCGA-2A-A8VV-01A-11R-A37L-07  0.415646 -0.125109  0.179495  0.215235 -0.061867  \n",
       "TCGA-2A-A8VX-01A-11R-A37L-07  0.413153 -0.108838  0.226842  0.183256 -0.127880  \n",
       "\n",
       "[5 rows x 50 columns]"
      ]
     },
     "execution_count": 18,
     "metadata": {},
     "output_type": "execute_result"
    }
   ],
   "source": [
    "samp_emb_df = pd.DataFrame(samp_emb, index=sids); samp_emb_df.head()"
   ]
  },
  {
   "cell_type": "code",
   "execution_count": 19,
   "metadata": {},
   "outputs": [],
   "source": [
    "samp_emb_df.to_csv(path+'samp_emb_CN_new.csv', sep=',')"
   ]
  },
  {
   "cell_type": "code",
   "execution_count": 20,
   "metadata": {},
   "outputs": [],
   "source": [
    "samp_emb_bias = to_np(m.ub(V(sampleidx)))\n",
    "samp_emb_bias_df = pd.DataFrame(samp_emb_bias, index=sids); samp_emb_bias_df.head()\n",
    "samp_emb_bias_df.to_csv(path+'samp_emb_CN_new_bias.csv')"
   ]
  },
  {
   "cell_type": "code",
   "execution_count": null,
   "metadata": {},
   "outputs": [],
   "source": []
  }
 ],
 "metadata": {
  "kernelspec": {
   "display_name": "Python 3",
   "language": "python",
   "name": "python3"
  },
  "language_info": {
   "codemirror_mode": {
    "name": "ipython",
    "version": 3
   },
   "file_extension": ".py",
   "mimetype": "text/x-python",
   "name": "python",
   "nbconvert_exporter": "python",
   "pygments_lexer": "ipython3",
   "version": "3.6.5"
  },
  "toc": {
   "colors": {
    "hover_highlight": "#DAA520",
    "navigate_num": "#000000",
    "navigate_text": "#333333",
    "running_highlight": "#FF0000",
    "selected_highlight": "#FFD700",
    "sidebar_border": "#EEEEEE",
    "wrapper_background": "#FFFFFF"
   },
   "moveMenuLeft": true,
   "nav_menu": {
    "height": "123px",
    "width": "252px"
   },
   "navigate_menu": true,
   "number_sections": true,
   "sideBar": true,
   "threshold": 4,
   "toc_cell": false,
   "toc_section_display": "block",
   "toc_window_display": false,
   "widenNotebook": false
  }
 },
 "nbformat": 4,
 "nbformat_minor": 2
}
