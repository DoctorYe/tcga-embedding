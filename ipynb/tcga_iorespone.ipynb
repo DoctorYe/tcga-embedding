{
  "cells": [
    {
      "cell_type": "code",
      "source": [
        "import pandas as pd\n",
        "import numpy as np\n",
        "import matplotlib.pyplot as plt\n",
        "import seaborn as sns\n",
        "from sklearn.neighbors import DistanceMetric\n",
        "from itertools import combinations\n",
        "from matplotlib_venn import venn2, venn3\n",
        "from scipy.stats import pearsonr, spearmanr\n",
        "from load_data import *\n",
        "from util import *\n",
        "\n%matplotlib inline"
      ],
      "outputs": [],
      "execution_count": 1,
      "metadata": {
        "collapsed": false,
        "outputHidden": false,
        "inputHidden": false
      }
    },
    {
      "cell_type": "code",
      "source": [
        "path = '/media/clo302/3TB_RAID/data/TCGA_embedding/'\n",
        "ref_path = '/media/clo302/3TB_RAID/ref/TCGA_RNASeq/'"
      ],
      "outputs": [],
      "execution_count": 2,
      "metadata": {
        "collapsed": false,
        "outputHidden": false,
        "inputHidden": false
      }
    },
    {
      "cell_type": "code",
      "source": [
        "gemb_CN, genes, semb_CN, sids_CN = load_data(path, ['gemb_CN.csv', 'semb_CN.csv'], return_rn=True)\n",
        "gene2idx = {g:i for i, g in enumerate(genes)}\n",
        "sid2ca, ca_cats = load_sid2ca(ref_path)\n",
        "gene2gid = load_gene2gid(ref_path)"
      ],
      "outputs": [
        {
          "output_type": "stream",
          "name": "stdout",
          "text": [
            "(20531, 50)\n",
            "(9544, 50)\n",
            "len: 10245\n",
            "len: 20531\n"
          ]
        }
      ],
      "execution_count": 3,
      "metadata": {
        "collapsed": false,
        "outputHidden": false,
        "inputHidden": false
      }
    },
    {
      "cell_type": "code",
      "source": [
        "gene2idx = {g:i for i, g in enumerate(genes)}\n",
        "sid2ca, ca_cats = load_sid2ca(ref_path)\n",
        "gene2gid = load_gene2gid(ref_path)"
      ],
      "outputs": [
        {
          "output_type": "stream",
          "name": "stdout",
          "text": [
            "len: 10245\n",
            "len: 20531\n"
          ]
        }
      ],
      "execution_count": 4,
      "metadata": {
        "collapsed": false,
        "outputHidden": false,
        "inputHidden": false
      }
    },
    {
      "cell_type": "markdown",
      "source": [
        "### case study: IO responsiveness"
      ],
      "metadata": {}
    },
    {
      "cell_type": "code",
      "source": [
        "from sklearn.neighbors import DistanceMetric\n",
        "dist = DistanceMetric.get_metric('euclidean')"
      ],
      "outputs": [],
      "execution_count": 5,
      "metadata": {
        "collapsed": false,
        "outputHidden": false,
        "inputHidden": false
      }
    },
    {
      "cell_type": "code",
      "source": [
        "gemb_CN_dist = np.absolute(dist.pairwise(gemb_CN))\n",
        "gemb_CN_dist_df = pd.DataFrame(gemb_CN_dist, index=genes, columns=genes)"
      ],
      "outputs": [],
      "execution_count": 6,
      "metadata": {
        "collapsed": false,
        "outputHidden": false,
        "inputHidden": false
      }
    },
    {
      "cell_type": "code",
      "source": [
        "io_responsive_ca = ['SKCM', 'LUSC']\n",
        "io_notresponsive_ca = ['LIHC', 'PRAD']"
      ],
      "outputs": [],
      "execution_count": 7,
      "metadata": {
        "collapsed": false,
        "outputHidden": false,
        "inputHidden": false
      }
    },
    {
      "cell_type": "code",
      "source": [
        "arr_centroid = [find_centroid(semb_CN, sid2ca, sids_CN, cancer=c) for c in ['SKCM', 'LUSC', 'LIHC', 'PRAD']]\n",
        "semb_centroid_df = pd.DataFrame(arr_centroid, index=['SKCM', 'LUSC', 'LIHC', 'PRAD'])"
      ],
      "outputs": [],
      "execution_count": 8,
      "metadata": {
        "collapsed": false,
        "outputHidden": false,
        "inputHidden": false
      }
    },
    {
      "cell_type": "code",
      "source": [
        "io_responsive_emb_mean = np.matrix(np.mean(np.array(semb_centroid_df.loc[io_responsive_ca,:]), axis=0))\n",
        "io_notresponsive_emb_mean = np.matrix(np.mean(np.array(semb_centroid_df.loc[io_notresponsive_ca,:]), axis=0))\n",
        "io_responsive_dp = np.array(np.dot(io_responsive_emb_mean, gemb_CN.T)).T\n",
        "io_notresponsive_dp = np.array(np.dot(io_notresponsive_emb_mean, gemb_CN.T)).T"
      ],
      "outputs": [],
      "execution_count": 9,
      "metadata": {
        "collapsed": false,
        "outputHidden": false,
        "inputHidden": false
      }
    },
    {
      "cell_type": "code",
      "source": [
        "io_responsive_gene_l2dist = np.absolute(dist.pairwise(io_responsive_dp))\n",
        "io_notresponsive_gene_l2dist = np.absolute(dist.pairwise(io_notresponsive_dp))\n",
        "io_responsive_gene_l2dist_df = pd.DataFrame(data=io_responsive_gene_l2dist, index=genes, columns=genes)\n",
        "io_notresponsive_gene_l2dist_df = pd.DataFrame(data=io_notresponsive_gene_l2dist, index=genes, columns=genes)"
      ],
      "outputs": [],
      "execution_count": 10,
      "metadata": {
        "collapsed": false,
        "outputHidden": false,
        "inputHidden": false
      }
    },
    {
      "cell_type": "code",
      "source": [
        "def find_remain_dist(mdf, dist_df, th):\n",
        "    genes = list(set(mdf['child']))\n",
        "    gene_combo = combinations(genes, 2)\n",
        "    rows = [[g1, g2, dist_df[g1][g2]] for g1, g2 in gene_combo if dist_df[g1][g2] < th]\n",
        "    remain_df = pd.DataFrame(rows, columns=['parent', 'child', 'l2dist'])\n",
        "    tmp = pd.concat(mdf, remain_df)\n",
        "    return tmp"
      ],
      "outputs": [],
      "execution_count": 11,
      "metadata": {
        "collapsed": false,
        "outputHidden": false,
        "inputHidden": false
      }
    },
    {
      "cell_type": "code",
      "source": [
        "def get_diff_nbs_mdf(r_df, nr_df, gemb_df, gene, th, gth=0.6):\n",
        "    r_l2dist_mdf = pull_close_nbs(r_df, gene, th=th)\n",
        "    nr_l2dist_mdf = pull_close_nbs(nr_df, gene, th=th)\n",
        "    diff_nbs = list(set(r_l2dist_mdf['child']) - set(nr_l2dist_mdf['child']))\n",
        "    gemb_l2dist_mdf = pull_close_nbs(gemb_df, gene, th=gth)\n",
        "    close_nbs = list(gemb_l2dist_mdf['child'])\n",
        "    diff_nbs_sig = [g for g in diff_nbs if g in close_nbs]\n",
        "    #r_l2dist_mdf = find_remain_dist(r_l2dist_mdf, r_df, th=th)\n",
        "    #nr_l2dist_mdf = find_remain_dist(nr_l2dist_mdf, nr_df, th=th)\n",
        "    r_l2dist_mdf = r_l2dist_mdf.assign(group='Responsive')\n",
        "    nr_l2dist_mdf = nr_l2dist_mdf.assign(group='Unresponsive')\n",
        "    mdf = pd.concat([r_l2dist_mdf, nr_l2dist_mdf])\n",
        "    sig = np.where(mdf['child'].isin(diff_nbs_sig), 'Sig', 'NA')\n",
        "    mdf = mdf.assign(sig=sig)\n",
        "    print(len(diff_nbs_sig))\n",
        "    print(diff_nbs_sig)\n",
        "    gsets = [set(r_l2dist_mdf['child']), set(nr_l2dist_mdf['child']), set(gemb_l2dist_mdf['child'])]\n",
        "    return mdf, gsets"
      ],
      "outputs": [],
      "execution_count": 12,
      "metadata": {
        "collapsed": false,
        "outputHidden": false,
        "inputHidden": false
      }
    },
    {
      "cell_type": "code",
      "source": [
        "pdl1_diff_nbs, pdl1_gsets = get_diff_nbs_mdf(io_responsive_gene_l2dist_df, io_notresponsive_gene_l2dist_df, gemb_CN_dist_df, 'CD274', th=0.1)"
      ],
      "outputs": [
        {
          "output_type": "stream",
          "name": "stdout",
          "text": [
            "13\n",
            "['SLFN12', 'TTC39B', 'RASGEF1B', 'C11orf45', 'FER', 'MCTP1', 'IL18R1', 'CD101', 'GNLY', 'CLEC7A', 'GPR183', 'CLIC2', 'CMPK2']\n"
          ]
        }
      ],
      "execution_count": 13,
      "metadata": {
        "collapsed": false,
        "outputHidden": false,
        "inputHidden": false
      }
    },
    {
      "cell_type": "code",
      "source": [
        "pd1_diff_nbs, pd1_gsets = get_diff_nbs_mdf(io_responsive_gene_l2dist_df, io_notresponsive_gene_l2dist_df, gemb_CN_dist_df, 'PDCD1', th=0.1)"
      ],
      "outputs": [
        {
          "output_type": "stream",
          "name": "stdout",
          "text": [
            "26\n",
            "['CLEC10A', 'CST7', 'CYTIP', 'ZAP70', 'LAT', 'LTB', 'TRAF3IP3', 'CD79B', 'CD96', 'ZBP1', 'CD5', 'ITK', 'CXCR2P1', 'PTPRCAP', 'CD247', 'CD3D', 'TNFRSF8', 'CRTAM', 'CXCR6', 'GZMK', 'TBC1D10C', 'GZMH', 'CD28', 'CD8B', 'CFP', 'EOMES']\n"
          ]
        }
      ],
      "execution_count": 14,
      "metadata": {
        "collapsed": false,
        "outputHidden": false,
        "inputHidden": false
      }
    },
    {
      "cell_type": "code",
      "source": [
        "ctla4_diff_nbs, ctla4_gsets = get_diff_nbs_mdf(io_responsive_gene_l2dist_df, io_notresponsive_gene_l2dist_df, gemb_CN_dist_df, 'CTLA4', th=0.1)"
      ],
      "outputs": [
        {
          "output_type": "stream",
          "name": "stdout",
          "text": [
            "34\n",
            "['CCR5', 'GZMA', 'LCK', 'MAP4K1', 'CST7', 'MGC29506', 'CD2', 'CYTIP', 'ZAP70', 'CTSW', 'FCRLA', 'CXCR3', 'FCRL5', 'LTB', 'TRAF3IP3', 'KLRK1', 'CD96', 'SLAMF6', 'TNFRSF9', 'MMP25', 'CXCL11', 'CD5', 'ITK', 'CD6', 'PTPRCAP', 'CD247', 'CD3D', 'TNFRSF8', 'ACAP1', 'CXCR6', 'GZMH', 'CD28', 'CD8B', 'CD27']\n"
          ]
        }
      ],
      "execution_count": 15,
      "metadata": {
        "collapsed": false,
        "outputHidden": false,
        "inputHidden": false
      }
    },
    {
      "cell_type": "code",
      "source": [
        "pdl1_diff_nbs.to_csv(path+'pdl1_nbs.csv')\n",
        "pd1_diff_nbs.to_csv(path+'pd1_nbs.csv')\n",
        "ctla4_diff_nbs.to_csv(path+'ctla4_nbs.csv')"
      ],
      "outputs": [],
      "execution_count": 16,
      "metadata": {
        "collapsed": false,
        "outputHidden": false,
        "inputHidden": false
      }
    },
    {
      "cell_type": "code",
      "source": [
        "venn3(pdl1_gsets, set_colors=('C0', 'C1', 'C2'), alpha=0.5, set_labels=('Responders', 'Non-Responders', 'TCGA Gene Embedding'))"
      ],
      "outputs": [
        {
          "output_type": "execute_result",
          "execution_count": 17,
          "data": {
            "text/plain": [
              "<matplotlib_venn._common.VennDiagram at 0x7f37839e1a58>"
            ]
          },
          "metadata": {}
        },
        {
          "output_type": "display_data",
          "data": {
            "text/plain": [
              "<matplotlib.figure.Figure at 0x7f3783735240>"
            ],
            "image/png": "[encoded data removed]"
          },
          "metadata": {}
        }
      ],
      "execution_count": 17,
      "metadata": {
        "collapsed": false,
        "outputHidden": false,
        "inputHidden": false
      }
    },
    {
      "cell_type": "code",
      "source": [
        "venn3(pd1_gsets, set_colors=('C0', 'C1', 'C2'), alpha=0.5, set_labels=('Responders', 'Non-Responders', 'TCGA Gene Embedding'))"
      ],
      "outputs": [
        {
          "output_type": "execute_result",
          "execution_count": 18,
          "data": {
            "text/plain": [
              "<matplotlib_venn._common.VennDiagram at 0x7f378394ce10>"
            ]
          },
          "metadata": {}
        },
        {
          "output_type": "display_data",
          "data": {
            "text/plain": [
              "<matplotlib.figure.Figure at 0x7f37837352b0>"
            ],
            "image/png": "[encoded data removed]"
          },
          "metadata": {}
        }
      ],
      "execution_count": 18,
      "metadata": {
        "collapsed": false,
        "outputHidden": false,
        "inputHidden": false
      }
    },
    {
      "cell_type": "code",
      "source": [
        "venn3(ctla4_gsets, set_colors=('C0', 'C1', 'C2'), alpha=0.5, set_labels=('Responders', 'Non-Responders', 'TCGA Gene Embedding'))"
      ],
      "outputs": [
        {
          "output_type": "execute_result",
          "execution_count": 19,
          "data": {
            "text/plain": [
              "<matplotlib_venn._common.VennDiagram at 0x7f37838ffac8>"
            ]
          },
          "metadata": {}
        },
        {
          "output_type": "display_data",
          "data": {
            "text/plain": [
              "<matplotlib.figure.Figure at 0x7f3784405d68>"
            ],
            "image/png": "[encoded data removed]"
          },
          "metadata": {}
        }
      ],
      "execution_count": 19,
      "metadata": {
        "collapsed": false,
        "outputHidden": false,
        "inputHidden": false
      }
    },
    {
      "cell_type": "markdown",
      "source": [
        "### co-expression"
      ],
      "metadata": {}
    },
    {
      "cell_type": "code",
      "source": [
        "df = load_raw(ref_path)"
      ],
      "outputs": [],
      "execution_count": 21,
      "metadata": {
        "collapsed": false,
        "outputHidden": false,
        "inputHidden": false
      }
    },
    {
      "cell_type": "code",
      "source": [
        "df = pd.DataFrame(df, index=sids_CN, columns=genes)"
      ],
      "outputs": [],
      "execution_count": 26,
      "metadata": {
        "collapsed": false,
        "outputHidden": false,
        "inputHidden": false
      }
    },
    {
      "cell_type": "code",
      "source": [
        "io_ca = ['SKCM', 'LUSC']\n",
        "io_sid_idx = [s for s in sids_CN if sid2ca[s] in io_ca]"
      ],
      "outputs": [],
      "execution_count": 27,
      "metadata": {
        "collapsed": false,
        "outputHidden": false,
        "inputHidden": false
      }
    },
    {
      "cell_type": "code",
      "source": [
        "io_raw_df = df.loc[io_sids]"
      ],
      "outputs": [],
      "execution_count": 28,
      "metadata": {
        "collapsed": false,
        "outputHidden": false,
        "inputHidden": false
      }
    },
    {
      "cell_type": "code",
      "source": [
        "pd1_nbs = ['SLFN12', 'TTC39B', 'RASGEF1B', 'C11orf45', 'FER', 'MCTP1', 'IL18R1', 'CD101', 'GNLY', 'CLEC7A', 'GPR183', 'CLIC2', 'CMPK2']\n",
        "pdl1_nbs = ['CLEC10A', 'CST7', 'CYTIP', 'ZAP70', 'LAT', 'LTB', 'TRAF3IP3', 'CD79B', 'CD96', 'ZBP1', 'CD5', 'ITK', 'CXCR2P1', 'PTPRCAP', 'CD247', 'CD3D', 'TNFRSF8', 'CRTAM', 'CXCR6', 'GZMK', 'TBC1D10C', 'GZMH', 'CD28', 'CD8B', 'CFP', 'EOMES']\n",
        "ctla4_nbs = ['CCR5', 'GZMA', 'LCK', 'MAP4K1', 'CST7', 'MGC29506', 'CD2', 'CYTIP', 'ZAP70', 'CTSW', 'FCRLA', 'CXCR3', 'FCRL5', 'LTB', 'TRAF3IP3', 'KLRK1', 'CD96', 'SLAMF6', 'TNFRSF9', 'MMP25', 'CXCL11', 'CD5', 'ITK', 'CD6', 'PTPRCAP', 'CD247', 'CD3D', 'TNFRSF8', 'ACAP1', 'CXCR6', 'GZMH', 'CD28', 'CD8B', 'CD27']"
      ],
      "outputs": [],
      "execution_count": 29,
      "metadata": {
        "collapsed": false,
        "outputHidden": false,
        "inputHidden": false
      }
    },
    {
      "cell_type": "code",
      "source": [
        "def get_correlations(df, x, y_arr):\n",
        "    ptmp = [pearsonr(df[x], df[y]) for y in y_arr]\n",
        "    prs = [ptmp[i][0] for i in range(len(ptmp))]\n",
        "    pps = [ptmp[i][1] for i in range(len(ptmp))]\n",
        "    stmp = [spearmanr(df[x], df[y]) for y in y_arr]\n",
        "    srs = [stmp[i][0] for i in range(len(stmp))]\n",
        "    sps = [stmp[i][1] for i in range(len(stmp))]\n",
        "    tmp = list(map(list, zip(*[prs, pps, srs, sps])))\n",
        "    tdf = pd.DataFrame(tmp, index=y_arr, columns=['pearson_r', 'pearson_p', 'spearman_r', 'spearman_p'])\n",
        "    return tdf"
      ],
      "outputs": [],
      "execution_count": 30,
      "metadata": {
        "collapsed": false,
        "outputHidden": false,
        "inputHidden": false
      }
    },
    {
      "cell_type": "code",
      "source": [
        "pd1_nbs_corr_df = get_correlations(io_raw_df, 'PDCD1', pd1_nbs)\n",
        "pdl1_nbs_corr_df = get_correlations(io_raw_df, 'CD274', pdl1_nbs)\n",
        "ctla4_nbs_corr_df = get_correlations(io_raw_df, 'CTLA4', ctla4_nbs)"
      ],
      "outputs": [],
      "execution_count": 31,
      "metadata": {
        "collapsed": false,
        "outputHidden": false,
        "inputHidden": false
      }
    },
    {
      "cell_type": "code",
      "source": [
        "pd1_nbs_corr_df"
      ],
      "outputs": [
        {
          "output_type": "execute_result",
          "execution_count": 34,
          "data": {
            "text/plain": [
              "          pearson_r      pearson_p  spearman_r     spearman_p\n",
              "SLFN12     0.240107   3.166009e-14    0.202974   1.660634e-10\n",
              "TTC39B     0.116714   2.638195e-04    0.051866   1.059055e-01\n",
              "RASGEF1B   0.395417   9.110061e-38    0.355636   2.202719e-30\n",
              "C11orf45   0.164656   2.407123e-07    0.081479   1.100557e-02\n",
              "FER       -0.112137   4.575681e-04   -0.084514   8.350493e-03\n",
              "MCTP1      0.177252   2.606014e-08    0.166330   1.808392e-07\n",
              "IL18R1     0.406187   6.013075e-40    0.361915   1.758270e-31\n",
              "CD101      0.381252   5.091132e-35    0.362722   1.265121e-31\n",
              "GNLY       0.664702  4.369592e-125    0.649845  7.978202e-118\n",
              "CLEC7A     0.453519   1.577125e-50    0.402228   3.889533e-39\n",
              "GPR183     0.523388   1.555318e-69    0.497041   7.592641e-62\n",
              "CLIC2      0.486004   8.068495e-59    0.473449   1.649864e-55\n",
              "CMPK2      0.443051   4.838334e-48    0.442456   6.658792e-48"
            ],
            "text/html": [
              "<div>\n",
              "<style scoped>\n",
              "    .dataframe tbody tr th:only-of-type {\n",
              "        vertical-align: middle;\n",
              "    }\n",
              "\n",
              "    .dataframe tbody tr th {\n",
              "        vertical-align: top;\n",
              "    }\n",
              "\n",
              "    .dataframe thead th {\n",
              "        text-align: right;\n",
              "    }\n",
              "</style>\n",
              "<table border=\"1\" class=\"dataframe\">\n",
              "  <thead>\n",
              "    <tr style=\"text-align: right;\">\n",
              "      <th></th>\n",
              "      <th>pearson_r</th>\n",
              "      <th>pearson_p</th>\n",
              "      <th>spearman_r</th>\n",
              "      <th>spearman_p</th>\n",
              "    </tr>\n",
              "  </thead>\n",
              "  <tbody>\n",
              "    <tr>\n",
              "      <th>SLFN12</th>\n",
              "      <td>0.240107</td>\n",
              "      <td>3.166009e-14</td>\n",
              "      <td>0.202974</td>\n",
              "      <td>1.660634e-10</td>\n",
              "    </tr>\n",
              "    <tr>\n",
              "      <th>TTC39B</th>\n",
              "      <td>0.116714</td>\n",
              "      <td>2.638195e-04</td>\n",
              "      <td>0.051866</td>\n",
              "      <td>1.059055e-01</td>\n",
              "    </tr>\n",
              "    <tr>\n",
              "      <th>RASGEF1B</th>\n",
              "      <td>0.395417</td>\n",
              "      <td>9.110061e-38</td>\n",
              "      <td>0.355636</td>\n",
              "      <td>2.202719e-30</td>\n",
              "    </tr>\n",
              "    <tr>\n",
              "      <th>C11orf45</th>\n",
              "      <td>0.164656</td>\n",
              "      <td>2.407123e-07</td>\n",
              "      <td>0.081479</td>\n",
              "      <td>1.100557e-02</td>\n",
              "    </tr>\n",
              "    <tr>\n",
              "      <th>FER</th>\n",
              "      <td>-0.112137</td>\n",
              "      <td>4.575681e-04</td>\n",
              "      <td>-0.084514</td>\n",
              "      <td>8.350493e-03</td>\n",
              "    </tr>\n",
              "    <tr>\n",
              "      <th>MCTP1</th>\n",
              "      <td>0.177252</td>\n",
              "      <td>2.606014e-08</td>\n",
              "      <td>0.166330</td>\n",
              "      <td>1.808392e-07</td>\n",
              "    </tr>\n",
              "    <tr>\n",
              "      <th>IL18R1</th>\n",
              "      <td>0.406187</td>\n",
              "      <td>6.013075e-40</td>\n",
              "      <td>0.361915</td>\n",
              "      <td>1.758270e-31</td>\n",
              "    </tr>\n",
              "    <tr>\n",
              "      <th>CD101</th>\n",
              "      <td>0.381252</td>\n",
              "      <td>5.091132e-35</td>\n",
              "      <td>0.362722</td>\n",
              "      <td>1.265121e-31</td>\n",
              "    </tr>\n",
              "    <tr>\n",
              "      <th>GNLY</th>\n",
              "      <td>0.664702</td>\n",
              "      <td>4.369592e-125</td>\n",
              "      <td>0.649845</td>\n",
              "      <td>7.978202e-118</td>\n",
              "    </tr>\n",
              "    <tr>\n",
              "      <th>CLEC7A</th>\n",
              "      <td>0.453519</td>\n",
              "      <td>1.577125e-50</td>\n",
              "      <td>0.402228</td>\n",
              "      <td>3.889533e-39</td>\n",
              "    </tr>\n",
              "    <tr>\n",
              "      <th>GPR183</th>\n",
              "      <td>0.523388</td>\n",
              "      <td>1.555318e-69</td>\n",
              "      <td>0.497041</td>\n",
              "      <td>7.592641e-62</td>\n",
              "    </tr>\n",
              "    <tr>\n",
              "      <th>CLIC2</th>\n",
              "      <td>0.486004</td>\n",
              "      <td>8.068495e-59</td>\n",
              "      <td>0.473449</td>\n",
              "      <td>1.649864e-55</td>\n",
              "    </tr>\n",
              "    <tr>\n",
              "      <th>CMPK2</th>\n",
              "      <td>0.443051</td>\n",
              "      <td>4.838334e-48</td>\n",
              "      <td>0.442456</td>\n",
              "      <td>6.658792e-48</td>\n",
              "    </tr>\n",
              "  </tbody>\n",
              "</table>\n",
              "</div>"
            ]
          },
          "metadata": {}
        }
      ],
      "execution_count": 34,
      "metadata": {
        "collapsed": false,
        "outputHidden": false,
        "inputHidden": false
      }
    },
    {
      "cell_type": "code",
      "source": [
        "pdl1_nbs_corr_df"
      ],
      "outputs": [
        {
          "output_type": "execute_result",
          "execution_count": 32,
          "data": {
            "text/plain": [
              "          pearson_r      pearson_p  spearman_r    spearman_p\n",
              "CLEC10A    0.397769   3.091436e-38    0.390241  9.526293e-37\n",
              "CST7       0.418291   1.703698e-42    0.397296  3.844019e-38\n",
              "CYTIP      0.588812   7.495953e-92    0.590851  1.246126e-92\n",
              "ZAP70      0.406119   6.209745e-40    0.411745  4.189048e-41\n",
              "LAT        0.228216   5.810566e-13    0.227919  6.235998e-13\n",
              "LTB        0.406887   4.311683e-40    0.395668  8.120503e-38\n",
              "TRAF3IP3   0.502221   2.639881e-63    0.506119  2.028308e-64\n",
              "CD79B      0.206124   8.516725e-11    0.231676  2.533172e-13\n",
              "CD96       0.570250   5.254822e-85    0.565313  2.942795e-83\n",
              "ZBP1       0.560355   1.566512e-81    0.548928  1.159189e-77\n",
              "CD5        0.485051   1.455581e-58    0.475131  6.050447e-56\n",
              "ITK        0.527120   1.115059e-70    0.527001  1.212976e-70\n",
              "CXCR2P1    0.384527   1.212070e-35    0.389207  1.515097e-36\n",
              "PTPRCAP    0.419030   1.181705e-42    0.426074  3.445054e-44\n",
              "CD247      0.547107   4.646036e-77    0.546662  6.515719e-77\n",
              "CD3D       0.532362   2.600654e-72    0.511136  7.096614e-66\n",
              "TNFRSF8    0.323411   3.984227e-25    0.339763  1.023392e-27\n",
              "CRTAM      0.541163   4.068292e-75    0.553470  3.499733e-79\n",
              "CXCR6      0.609403  5.531434e-100    0.603563  1.286372e-97\n",
              "GZMK       0.509014   2.950359e-65    0.493506  7.277615e-61\n",
              "TBC1D10C   0.475494   4.870487e-56    0.468200  3.642121e-54\n",
              "GZMH       0.549435   7.865005e-78    0.525681  3.091751e-70\n",
              "CD28       0.388037   2.556486e-36    0.419312  1.027103e-42\n",
              "CD8B       0.452698   2.489496e-50    0.418425  1.594361e-42\n",
              "CFP        0.231823   2.444645e-13    0.227382  7.083140e-13\n",
              "EOMES      0.136538   1.923653e-05    0.133182  3.078464e-05"
            ],
            "text/html": [
              "<div>\n",
              "<style scoped>\n",
              "    .dataframe tbody tr th:only-of-type {\n",
              "        vertical-align: middle;\n",
              "    }\n",
              "\n",
              "    .dataframe tbody tr th {\n",
              "        vertical-align: top;\n",
              "    }\n",
              "\n",
              "    .dataframe thead th {\n",
              "        text-align: right;\n",
              "    }\n",
              "</style>\n",
              "<table border=\"1\" class=\"dataframe\">\n",
              "  <thead>\n",
              "    <tr style=\"text-align: right;\">\n",
              "      <th></th>\n",
              "      <th>pearson_r</th>\n",
              "      <th>pearson_p</th>\n",
              "      <th>spearman_r</th>\n",
              "      <th>spearman_p</th>\n",
              "    </tr>\n",
              "  </thead>\n",
              "  <tbody>\n",
              "    <tr>\n",
              "      <th>CLEC10A</th>\n",
              "      <td>0.397769</td>\n",
              "      <td>3.091436e-38</td>\n",
              "      <td>0.390241</td>\n",
              "      <td>9.526293e-37</td>\n",
              "    </tr>\n",
              "    <tr>\n",
              "      <th>CST7</th>\n",
              "      <td>0.418291</td>\n",
              "      <td>1.703698e-42</td>\n",
              "      <td>0.397296</td>\n",
              "      <td>3.844019e-38</td>\n",
              "    </tr>\n",
              "    <tr>\n",
              "      <th>CYTIP</th>\n",
              "      <td>0.588812</td>\n",
              "      <td>7.495953e-92</td>\n",
              "      <td>0.590851</td>\n",
              "      <td>1.246126e-92</td>\n",
              "    </tr>\n",
              "    <tr>\n",
              "      <th>ZAP70</th>\n",
              "      <td>0.406119</td>\n",
              "      <td>6.209745e-40</td>\n",
              "      <td>0.411745</td>\n",
              "      <td>4.189048e-41</td>\n",
              "    </tr>\n",
              "    <tr>\n",
              "      <th>LAT</th>\n",
              "      <td>0.228216</td>\n",
              "      <td>5.810566e-13</td>\n",
              "      <td>0.227919</td>\n",
              "      <td>6.235998e-13</td>\n",
              "    </tr>\n",
              "    <tr>\n",
              "      <th>LTB</th>\n",
              "      <td>0.406887</td>\n",
              "      <td>4.311683e-40</td>\n",
              "      <td>0.395668</td>\n",
              "      <td>8.120503e-38</td>\n",
              "    </tr>\n",
              "    <tr>\n",
              "      <th>TRAF3IP3</th>\n",
              "      <td>0.502221</td>\n",
              "      <td>2.639881e-63</td>\n",
              "      <td>0.506119</td>\n",
              "      <td>2.028308e-64</td>\n",
              "    </tr>\n",
              "    <tr>\n",
              "      <th>CD79B</th>\n",
              "      <td>0.206124</td>\n",
              "      <td>8.516725e-11</td>\n",
              "      <td>0.231676</td>\n",
              "      <td>2.533172e-13</td>\n",
              "    </tr>\n",
              "    <tr>\n",
              "      <th>CD96</th>\n",
              "      <td>0.570250</td>\n",
              "      <td>5.254822e-85</td>\n",
              "      <td>0.565313</td>\n",
              "      <td>2.942795e-83</td>\n",
              "    </tr>\n",
              "    <tr>\n",
              "      <th>ZBP1</th>\n",
              "      <td>0.560355</td>\n",
              "      <td>1.566512e-81</td>\n",
              "      <td>0.548928</td>\n",
              "      <td>1.159189e-77</td>\n",
              "    </tr>\n",
              "    <tr>\n",
              "      <th>CD5</th>\n",
              "      <td>0.485051</td>\n",
              "      <td>1.455581e-58</td>\n",
              "      <td>0.475131</td>\n",
              "      <td>6.050447e-56</td>\n",
              "    </tr>\n",
              "    <tr>\n",
              "      <th>ITK</th>\n",
              "      <td>0.527120</td>\n",
              "      <td>1.115059e-70</td>\n",
              "      <td>0.527001</td>\n",
              "      <td>1.212976e-70</td>\n",
              "    </tr>\n",
              "    <tr>\n",
              "      <th>CXCR2P1</th>\n",
              "      <td>0.384527</td>\n",
              "      <td>1.212070e-35</td>\n",
              "      <td>0.389207</td>\n",
              "      <td>1.515097e-36</td>\n",
              "    </tr>\n",
              "    <tr>\n",
              "      <th>PTPRCAP</th>\n",
              "      <td>0.419030</td>\n",
              "      <td>1.181705e-42</td>\n",
              "      <td>0.426074</td>\n",
              "      <td>3.445054e-44</td>\n",
              "    </tr>\n",
              "    <tr>\n",
              "      <th>CD247</th>\n",
              "      <td>0.547107</td>\n",
              "      <td>4.646036e-77</td>\n",
              "      <td>0.546662</td>\n",
              "      <td>6.515719e-77</td>\n",
              "    </tr>\n",
              "    <tr>\n",
              "      <th>CD3D</th>\n",
              "      <td>0.532362</td>\n",
              "      <td>2.600654e-72</td>\n",
              "      <td>0.511136</td>\n",
              "      <td>7.096614e-66</td>\n",
              "    </tr>\n",
              "    <tr>\n",
              "      <th>TNFRSF8</th>\n",
              "      <td>0.323411</td>\n",
              "      <td>3.984227e-25</td>\n",
              "      <td>0.339763</td>\n",
              "      <td>1.023392e-27</td>\n",
              "    </tr>\n",
              "    <tr>\n",
              "      <th>CRTAM</th>\n",
              "      <td>0.541163</td>\n",
              "      <td>4.068292e-75</td>\n",
              "      <td>0.553470</td>\n",
              "      <td>3.499733e-79</td>\n",
              "    </tr>\n",
              "    <tr>\n",
              "      <th>CXCR6</th>\n",
              "      <td>0.609403</td>\n",
              "      <td>5.531434e-100</td>\n",
              "      <td>0.603563</td>\n",
              "      <td>1.286372e-97</td>\n",
              "    </tr>\n",
              "    <tr>\n",
              "      <th>GZMK</th>\n",
              "      <td>0.509014</td>\n",
              "      <td>2.950359e-65</td>\n",
              "      <td>0.493506</td>\n",
              "      <td>7.277615e-61</td>\n",
              "    </tr>\n",
              "    <tr>\n",
              "      <th>TBC1D10C</th>\n",
              "      <td>0.475494</td>\n",
              "      <td>4.870487e-56</td>\n",
              "      <td>0.468200</td>\n",
              "      <td>3.642121e-54</td>\n",
              "    </tr>\n",
              "    <tr>\n",
              "      <th>GZMH</th>\n",
              "      <td>0.549435</td>\n",
              "      <td>7.865005e-78</td>\n",
              "      <td>0.525681</td>\n",
              "      <td>3.091751e-70</td>\n",
              "    </tr>\n",
              "    <tr>\n",
              "      <th>CD28</th>\n",
              "      <td>0.388037</td>\n",
              "      <td>2.556486e-36</td>\n",
              "      <td>0.419312</td>\n",
              "      <td>1.027103e-42</td>\n",
              "    </tr>\n",
              "    <tr>\n",
              "      <th>CD8B</th>\n",
              "      <td>0.452698</td>\n",
              "      <td>2.489496e-50</td>\n",
              "      <td>0.418425</td>\n",
              "      <td>1.594361e-42</td>\n",
              "    </tr>\n",
              "    <tr>\n",
              "      <th>CFP</th>\n",
              "      <td>0.231823</td>\n",
              "      <td>2.444645e-13</td>\n",
              "      <td>0.227382</td>\n",
              "      <td>7.083140e-13</td>\n",
              "    </tr>\n",
              "    <tr>\n",
              "      <th>EOMES</th>\n",
              "      <td>0.136538</td>\n",
              "      <td>1.923653e-05</td>\n",
              "      <td>0.133182</td>\n",
              "      <td>3.078464e-05</td>\n",
              "    </tr>\n",
              "  </tbody>\n",
              "</table>\n",
              "</div>"
            ]
          },
          "metadata": {}
        }
      ],
      "execution_count": 32,
      "metadata": {
        "collapsed": false,
        "outputHidden": false,
        "inputHidden": false
      }
    },
    {
      "cell_type": "code",
      "source": [
        "ctla4_nbs_corr_df"
      ],
      "outputs": [
        {
          "output_type": "execute_result",
          "execution_count": 33,
          "data": {
            "text/plain": [
              "          pearson_r      pearson_p  spearman_r     spearman_p\n",
              "CCR5       0.637703  3.467570e-112    0.675995  6.837390e-131\n",
              "GZMA       0.612259  3.689859e-101    0.632860  5.231667e-110\n",
              "LCK        0.629380  1.820999e-108    0.672405  5.110072e-129\n",
              "MAP4K1     0.518989   3.333499e-68    0.567873   3.680394e-84\n",
              "CST7       0.639869  3.571047e-113    0.663581  1.595523e-124\n",
              "MGC29506   0.471348   5.729949e-55    0.494194   4.695256e-61\n",
              "CD2        0.658446  5.605152e-122    0.705417  2.589625e-147\n",
              "CYTIP      0.591653   6.132533e-93    0.636071  1.900087e-111\n",
              "ZAP70      0.599678   4.541866e-96    0.649591  1.053500e-117\n",
              "CTSW       0.598698   1.107315e-95    0.622915  1.183187e-105\n",
              "FCRLA      0.250183   2.371176e-15    0.291056   1.885953e-20\n",
              "CXCR3      0.638959  9.299758e-113    0.671021  2.651949e-128\n",
              "FCRL5      0.457716   1.500777e-51    0.487136   3.995389e-59\n",
              "LTB        0.547568   3.272484e-77    0.575021   1.005536e-86\n",
              "TRAF3IP3   0.639251  6.844177e-113    0.685944  3.167142e-136\n",
              "KLRK1      0.649896  7.542436e-118    0.685120  8.929662e-136\n",
              "CD96       0.634976  5.909700e-111    0.686160  2.412389e-136\n",
              "SLAMF6     0.648537  3.322174e-117    0.687480  4.547597e-137\n",
              "TNFRSF9    0.606997   5.293696e-99    0.635124  5.073259e-111\n",
              "MMP25      0.498721   2.571352e-62    0.515356   4.049784e-67\n",
              "CXCL11     0.519696   2.042967e-68    0.562674   2.460564e-82\n",
              "CD5        0.631125  3.088317e-109    0.676960  2.121859e-131\n",
              "ITK        0.716957  2.525309e-154    0.742525  3.478907e-171\n",
              "CD6        0.600083   3.138782e-96    0.659167  2.479524e-122\n",
              "PTPRCAP    0.621750  3.737539e-105    0.653811  1.008213e-119\n",
              "CD247      0.642235  2.920100e-114    0.688357  1.494508e-137\n",
              "CD3D       0.654953  2.829856e-120    0.695313  1.894625e-141\n",
              "TNFRSF8    0.539959   9.958690e-75    0.572666   7.144790e-86\n",
              "ACAP1      0.638069  2.363993e-112    0.679699  7.475782e-133\n",
              "CXCR6      0.669389  1.828335e-127    0.694854  3.453204e-141\n",
              "GZMH       0.628310  5.377523e-108    0.648573  3.195696e-117\n",
              "CD28       0.518444   4.857268e-68    0.576291   3.472000e-87\n",
              "CD8B       0.573020   5.328302e-86    0.603172   1.846494e-97\n",
              "CD27       0.635740  2.677672e-111    0.656966  2.973278e-121"
            ],
            "text/html": [
              "<div>\n",
              "<style scoped>\n",
              "    .dataframe tbody tr th:only-of-type {\n",
              "        vertical-align: middle;\n",
              "    }\n",
              "\n",
              "    .dataframe tbody tr th {\n",
              "        vertical-align: top;\n",
              "    }\n",
              "\n",
              "    .dataframe thead th {\n",
              "        text-align: right;\n",
              "    }\n",
              "</style>\n",
              "<table border=\"1\" class=\"dataframe\">\n",
              "  <thead>\n",
              "    <tr style=\"text-align: right;\">\n",
              "      <th></th>\n",
              "      <th>pearson_r</th>\n",
              "      <th>pearson_p</th>\n",
              "      <th>spearman_r</th>\n",
              "      <th>spearman_p</th>\n",
              "    </tr>\n",
              "  </thead>\n",
              "  <tbody>\n",
              "    <tr>\n",
              "      <th>CCR5</th>\n",
              "      <td>0.637703</td>\n",
              "      <td>3.467570e-112</td>\n",
              "      <td>0.675995</td>\n",
              "      <td>6.837390e-131</td>\n",
              "    </tr>\n",
              "    <tr>\n",
              "      <th>GZMA</th>\n",
              "      <td>0.612259</td>\n",
              "      <td>3.689859e-101</td>\n",
              "      <td>0.632860</td>\n",
              "      <td>5.231667e-110</td>\n",
              "    </tr>\n",
              "    <tr>\n",
              "      <th>LCK</th>\n",
              "      <td>0.629380</td>\n",
              "      <td>1.820999e-108</td>\n",
              "      <td>0.672405</td>\n",
              "      <td>5.110072e-129</td>\n",
              "    </tr>\n",
              "    <tr>\n",
              "      <th>MAP4K1</th>\n",
              "      <td>0.518989</td>\n",
              "      <td>3.333499e-68</td>\n",
              "      <td>0.567873</td>\n",
              "      <td>3.680394e-84</td>\n",
              "    </tr>\n",
              "    <tr>\n",
              "      <th>CST7</th>\n",
              "      <td>0.639869</td>\n",
              "      <td>3.571047e-113</td>\n",
              "      <td>0.663581</td>\n",
              "      <td>1.595523e-124</td>\n",
              "    </tr>\n",
              "    <tr>\n",
              "      <th>MGC29506</th>\n",
              "      <td>0.471348</td>\n",
              "      <td>5.729949e-55</td>\n",
              "      <td>0.494194</td>\n",
              "      <td>4.695256e-61</td>\n",
              "    </tr>\n",
              "    <tr>\n",
              "      <th>CD2</th>\n",
              "      <td>0.658446</td>\n",
              "      <td>5.605152e-122</td>\n",
              "      <td>0.705417</td>\n",
              "      <td>2.589625e-147</td>\n",
              "    </tr>\n",
              "    <tr>\n",
              "      <th>CYTIP</th>\n",
              "      <td>0.591653</td>\n",
              "      <td>6.132533e-93</td>\n",
              "      <td>0.636071</td>\n",
              "      <td>1.900087e-111</td>\n",
              "    </tr>\n",
              "    <tr>\n",
              "      <th>ZAP70</th>\n",
              "      <td>0.599678</td>\n",
              "      <td>4.541866e-96</td>\n",
              "      <td>0.649591</td>\n",
              "      <td>1.053500e-117</td>\n",
              "    </tr>\n",
              "    <tr>\n",
              "      <th>CTSW</th>\n",
              "      <td>0.598698</td>\n",
              "      <td>1.107315e-95</td>\n",
              "      <td>0.622915</td>\n",
              "      <td>1.183187e-105</td>\n",
              "    </tr>\n",
              "    <tr>\n",
              "      <th>FCRLA</th>\n",
              "      <td>0.250183</td>\n",
              "      <td>2.371176e-15</td>\n",
              "      <td>0.291056</td>\n",
              "      <td>1.885953e-20</td>\n",
              "    </tr>\n",
              "    <tr>\n",
              "      <th>CXCR3</th>\n",
              "      <td>0.638959</td>\n",
              "      <td>9.299758e-113</td>\n",
              "      <td>0.671021</td>\n",
              "      <td>2.651949e-128</td>\n",
              "    </tr>\n",
              "    <tr>\n",
              "      <th>FCRL5</th>\n",
              "      <td>0.457716</td>\n",
              "      <td>1.500777e-51</td>\n",
              "      <td>0.487136</td>\n",
              "      <td>3.995389e-59</td>\n",
              "    </tr>\n",
              "    <tr>\n",
              "      <th>LTB</th>\n",
              "      <td>0.547568</td>\n",
              "      <td>3.272484e-77</td>\n",
              "      <td>0.575021</td>\n",
              "      <td>1.005536e-86</td>\n",
              "    </tr>\n",
              "    <tr>\n",
              "      <th>TRAF3IP3</th>\n",
              "      <td>0.639251</td>\n",
              "      <td>6.844177e-113</td>\n",
              "      <td>0.685944</td>\n",
              "      <td>3.167142e-136</td>\n",
              "    </tr>\n",
              "    <tr>\n",
              "      <th>KLRK1</th>\n",
              "      <td>0.649896</td>\n",
              "      <td>7.542436e-118</td>\n",
              "      <td>0.685120</td>\n",
              "      <td>8.929662e-136</td>\n",
              "    </tr>\n",
              "    <tr>\n",
              "      <th>CD96</th>\n",
              "      <td>0.634976</td>\n",
              "      <td>5.909700e-111</td>\n",
              "      <td>0.686160</td>\n",
              "      <td>2.412389e-136</td>\n",
              "    </tr>\n",
              "    <tr>\n",
              "      <th>SLAMF6</th>\n",
              "      <td>0.648537</td>\n",
              "      <td>3.322174e-117</td>\n",
              "      <td>0.687480</td>\n",
              "      <td>4.547597e-137</td>\n",
              "    </tr>\n",
              "    <tr>\n",
              "      <th>TNFRSF9</th>\n",
              "      <td>0.606997</td>\n",
              "      <td>5.293696e-99</td>\n",
              "      <td>0.635124</td>\n",
              "      <td>5.073259e-111</td>\n",
              "    </tr>\n",
              "    <tr>\n",
              "      <th>MMP25</th>\n",
              "      <td>0.498721</td>\n",
              "      <td>2.571352e-62</td>\n",
              "      <td>0.515356</td>\n",
              "      <td>4.049784e-67</td>\n",
              "    </tr>\n",
              "    <tr>\n",
              "      <th>CXCL11</th>\n",
              "      <td>0.519696</td>\n",
              "      <td>2.042967e-68</td>\n",
              "      <td>0.562674</td>\n",
              "      <td>2.460564e-82</td>\n",
              "    </tr>\n",
              "    <tr>\n",
              "      <th>CD5</th>\n",
              "      <td>0.631125</td>\n",
              "      <td>3.088317e-109</td>\n",
              "      <td>0.676960</td>\n",
              "      <td>2.121859e-131</td>\n",
              "    </tr>\n",
              "    <tr>\n",
              "      <th>ITK</th>\n",
              "      <td>0.716957</td>\n",
              "      <td>2.525309e-154</td>\n",
              "      <td>0.742525</td>\n",
              "      <td>3.478907e-171</td>\n",
              "    </tr>\n",
              "    <tr>\n",
              "      <th>CD6</th>\n",
              "      <td>0.600083</td>\n",
              "      <td>3.138782e-96</td>\n",
              "      <td>0.659167</td>\n",
              "      <td>2.479524e-122</td>\n",
              "    </tr>\n",
              "    <tr>\n",
              "      <th>PTPRCAP</th>\n",
              "      <td>0.621750</td>\n",
              "      <td>3.737539e-105</td>\n",
              "      <td>0.653811</td>\n",
              "      <td>1.008213e-119</td>\n",
              "    </tr>\n",
              "    <tr>\n",
              "      <th>CD247</th>\n",
              "      <td>0.642235</td>\n",
              "      <td>2.920100e-114</td>\n",
              "      <td>0.688357</td>\n",
              "      <td>1.494508e-137</td>\n",
              "    </tr>\n",
              "    <tr>\n",
              "      <th>CD3D</th>\n",
              "      <td>0.654953</td>\n",
              "      <td>2.829856e-120</td>\n",
              "      <td>0.695313</td>\n",
              "      <td>1.894625e-141</td>\n",
              "    </tr>\n",
              "    <tr>\n",
              "      <th>TNFRSF8</th>\n",
              "      <td>0.539959</td>\n",
              "      <td>9.958690e-75</td>\n",
              "      <td>0.572666</td>\n",
              "      <td>7.144790e-86</td>\n",
              "    </tr>\n",
              "    <tr>\n",
              "      <th>ACAP1</th>\n",
              "      <td>0.638069</td>\n",
              "      <td>2.363993e-112</td>\n",
              "      <td>0.679699</td>\n",
              "      <td>7.475782e-133</td>\n",
              "    </tr>\n",
              "    <tr>\n",
              "      <th>CXCR6</th>\n",
              "      <td>0.669389</td>\n",
              "      <td>1.828335e-127</td>\n",
              "      <td>0.694854</td>\n",
              "      <td>3.453204e-141</td>\n",
              "    </tr>\n",
              "    <tr>\n",
              "      <th>GZMH</th>\n",
              "      <td>0.628310</td>\n",
              "      <td>5.377523e-108</td>\n",
              "      <td>0.648573</td>\n",
              "      <td>3.195696e-117</td>\n",
              "    </tr>\n",
              "    <tr>\n",
              "      <th>CD28</th>\n",
              "      <td>0.518444</td>\n",
              "      <td>4.857268e-68</td>\n",
              "      <td>0.576291</td>\n",
              "      <td>3.472000e-87</td>\n",
              "    </tr>\n",
              "    <tr>\n",
              "      <th>CD8B</th>\n",
              "      <td>0.573020</td>\n",
              "      <td>5.328302e-86</td>\n",
              "      <td>0.603172</td>\n",
              "      <td>1.846494e-97</td>\n",
              "    </tr>\n",
              "    <tr>\n",
              "      <th>CD27</th>\n",
              "      <td>0.635740</td>\n",
              "      <td>2.677672e-111</td>\n",
              "      <td>0.656966</td>\n",
              "      <td>2.973278e-121</td>\n",
              "    </tr>\n",
              "  </tbody>\n",
              "</table>\n",
              "</div>"
            ]
          },
          "metadata": {}
        }
      ],
      "execution_count": 33,
      "metadata": {
        "collapsed": false,
        "outputHidden": false,
        "inputHidden": false
      }
    },
    {
      "cell_type": "code",
      "source": [
        "pd1_nbs_corr_df.to_csv(path+'pd1_io_nbs_corr.csv')\n",
        "pdl1_nbs_corr_df.to_csv(path+'pdl1_io_nbs_corr.csv')\n",
        "ctla4_nbs_corr_df.to_csv(path+'ctla4_io_nbs_corr.csv')"
      ],
      "outputs": [],
      "execution_count": 35,
      "metadata": {
        "collapsed": false,
        "outputHidden": false,
        "inputHidden": false
      }
    },
    {
      "cell_type": "code",
      "source": [],
      "outputs": [],
      "execution_count": null,
      "metadata": {
        "collapsed": false,
        "outputHidden": false,
        "inputHidden": false
      }
    }
  ],
  "metadata": {
    "kernelspec": {
      "name": "py3",
      "language": "python",
      "display_name": "Python3.6"
    },
    "kernel_info": {
      "name": "py3"
    },
    "language_info": {
      "name": "python",
      "version": "3.6.4",
      "mimetype": "text/x-python",
      "codemirror_mode": {
        "name": "ipython",
        "version": 3
      },
      "pygments_lexer": "ipython3",
      "nbconvert_exporter": "python",
      "file_extension": ".py"
    },
    "nteract": {
      "version": "0.4.1"
    }
  },
  "nbformat": 4,
  "nbformat_minor": 4
}