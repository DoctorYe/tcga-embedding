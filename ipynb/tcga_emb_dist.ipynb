{
  "cells": [
    {
      "cell_type": "code",
      "source": [
        "import pandas as pd\n",
        "import numpy as np\n",
        "import matplotlib.pyplot as plt\n",
        "import seaborn as sns\n",
        "#from sklearn.neighbors import DistanceMetric\n",
        "from load_data import *\n",
        "from util import *\n",
        "\n%matplotlib inline"
      ],
      "outputs": [],
      "execution_count": 1,
      "metadata": {
        "collapsed": false,
        "outputHidden": false,
        "inputHidden": false
      }
    },
    {
      "cell_type": "code",
      "source": [
        "path = '/media/clo302/3TB_RAID/data/TCGA_embedding/'\n",
        "ref_path = '/media/clo302/3TB_RAID/ref/TCGA_RNASeq/'"
      ],
      "outputs": [],
      "execution_count": 2,
      "metadata": {
        "collapsed": false,
        "outputHidden": false,
        "inputHidden": false
      }
    },
    {
      "cell_type": "markdown",
      "source": [
        "load data"
      ],
      "metadata": {}
    },
    {
      "cell_type": "code",
      "source": [
        "gemb_CN, genes = load_data(path,  ['gemb_CN.csv'], return_rn=True)\n",
        "gemb_normal = load_data(path, ['gemb_normal.csv'])"
      ],
      "outputs": [
        {
          "output_type": "stream",
          "name": "stdout",
          "text": [
            "(20531, 50)\n",
            "(20531, 50)\n"
          ]
        }
      ],
      "execution_count": 3,
      "metadata": {
        "collapsed": false,
        "outputHidden": false,
        "inputHidden": false
      }
    },
    {
      "cell_type": "code",
      "source": [
        "gene2idx = {g:i for i, g in enumerate(genes)}"
      ],
      "outputs": [],
      "execution_count": 4,
      "metadata": {
        "collapsed": false,
        "outputHidden": true,
        "inputHidden": false
      }
    },
    {
      "cell_type": "code",
      "source": [
        "sid2ca, ca_cats = load_sid2ca(ref_path)"
      ],
      "outputs": [
        {
          "output_type": "stream",
          "name": "stdout",
          "text": [
            "len: 10245\n"
          ]
        }
      ],
      "execution_count": 5,
      "metadata": {
        "collapsed": false,
        "outputHidden": false,
        "inputHidden": false
      }
    },
    {
      "cell_type": "markdown",
      "source": [
        "### gemb dist stat"
      ],
      "metadata": {}
    },
    {
      "cell_type": "code",
      "source": [
        "gemb_CN_dist, gemb_CN_dist_mean, gemb_CN_dist_std = get_emb_dist(gemb_CN, index=genes)\n",
        "gemb_normal_dist, gemb_normal_dist_mean, gemb_normal_dist_std = get_emb_dist(gemb_normal, index=genes)"
      ],
      "outputs": [
        {
          "output_type": "stream",
          "name": "stdout",
          "text": [
            "(20531, 20531) 0.9430543915285435 0.31745227898677725\n",
            "(20531, 20531) 0.720421394193206 0.2820022162246797\n"
          ]
        }
      ],
      "execution_count": 6,
      "metadata": {
        "collapsed": false,
        "outputHidden": false,
        "inputHidden": false
      }
    },
    {
      "cell_type": "code",
      "source": [
        "sns.distplot(gemb_CN_dist_mean, rug=True)"
      ],
      "outputs": [
        {
          "output_type": "execute_result",
          "execution_count": 7,
          "data": {
            "text/plain": [
              "<matplotlib.axes._subplots.AxesSubplot at 0x7fdbffca2400>"
            ]
          },
          "metadata": {}
        },
        {
          "output_type": "display_data",
          "data": {
            "text/plain": [
              "<matplotlib.figure.Figure at 0x7fdbffca28d0>"
            ],
            "image/png": "[encoded data removed]"
          },
          "metadata": {}
        }
      ],
      "execution_count": 7,
      "metadata": {
        "collapsed": false,
        "outputHidden": false,
        "inputHidden": false
      }
    },
    {
      "cell_type": "code",
      "source": [
        "sns.distplot(gemb_CN_dist_std, rug=True)"
      ],
      "outputs": [
        {
          "output_type": "execute_result",
          "execution_count": 8,
          "data": {
            "text/plain": [
              "<matplotlib.axes._subplots.AxesSubplot at 0x7fdbf6d920b8>"
            ]
          },
          "metadata": {}
        },
        {
          "output_type": "display_data",
          "data": {
            "text/plain": [
              "<matplotlib.figure.Figure at 0x7fdbf6dc9978>"
            ],
            "image/png": "[encoded data removed]"
          },
          "metadata": {}
        }
      ],
      "execution_count": 8,
      "metadata": {
        "collapsed": false,
        "outputHidden": false,
        "inputHidden": false
      }
    },
    {
      "cell_type": "code",
      "source": [
        "sns.distplot(gemb_normal_dist_mean, rug=True)"
      ],
      "outputs": [
        {
          "output_type": "execute_result",
          "execution_count": 9,
          "data": {
            "text/plain": [
              "<matplotlib.axes._subplots.AxesSubplot at 0x7fdbd9a88518>"
            ]
          },
          "metadata": {}
        },
        {
          "output_type": "display_data",
          "data": {
            "text/plain": [
              "<matplotlib.figure.Figure at 0x7fdbe8216358>"
            ],
            "image/png": "[encoded data removed]"
          },
          "metadata": {}
        }
      ],
      "execution_count": 9,
      "metadata": {
        "collapsed": false,
        "outputHidden": false,
        "inputHidden": false
      }
    },
    {
      "cell_type": "code",
      "source": [
        "sns.distplot(gemb_normal_dist_std, rug=True)"
      ],
      "outputs": [
        {
          "output_type": "execute_result",
          "execution_count": 10,
          "data": {
            "text/plain": [
              "<matplotlib.axes._subplots.AxesSubplot at 0x7fdbd96c0780>"
            ]
          },
          "metadata": {}
        },
        {
          "output_type": "display_data",
          "data": {
            "text/plain": [
              "<matplotlib.figure.Figure at 0x7fdbd893c940>"
            ],
            "image/png": "[encoded data removed]"
          },
          "metadata": {}
        }
      ],
      "execution_count": 10,
      "metadata": {
        "collapsed": false,
        "outputHidden": false,
        "inputHidden": false
      }
    },
    {
      "cell_type": "markdown",
      "source": [
        "### pull neighbors for cancer/network hub & io"
      ],
      "metadata": {}
    },
    {
      "cell_type": "code",
      "source": [
        "gemb_CN_dist_masked, _, _ = get_emb_dist(gemb_CN, index=genes, masked=True)\n",
        "gemb_normal_dist_masked, _, _ = get_emb_dist(gemb_normal, index=genes, masked=True)"
      ],
      "outputs": [
        {
          "output_type": "stream",
          "name": "stdout",
          "text": [
            "shape: (20531, 20531); mean: 5.472; std: 4.534\n",
            "shape: (20531, 20531); mean: 5.360; std: 4.644\n"
          ]
        }
      ],
      "execution_count": 7,
      "metadata": {
        "collapsed": false,
        "outputHidden": false,
        "inputHidden": false
      }
    },
    {
      "cell_type": "code",
      "source": [
        "gemb_CN_dist_masked_nbs_mdf = get_close_nbs_mdf(gemb_CN_dist_masked, genes, th=0.6)\n",
        "gemb_normal_dist_masked_nbs_mdf = get_close_nbs_mdf(gemb_normal_dist_masked, genes, th=0.4)"
      ],
      "outputs": [
        {
          "output_type": "stream",
          "name": "stdout",
          "text": [
            "len: 34052241\n",
            "len: 27457524\n"
          ]
        }
      ],
      "execution_count": 8,
      "metadata": {
        "collapsed": false,
        "outputHidden": false,
        "inputHidden": false
      }
    },
    {
      "cell_type": "code",
      "source": [
        "gemb_CN_dist_masked_nbs_mdf.to_csv(path+'gemb_CN_dist_masked_nbs_mdf_th06.csv')\n",
        "gemb_normal_dist_masked_nbs_mdf.to_csv(path+'gemb_normal_dist_masked_nbs_mdf_th04.csv')"
      ],
      "outputs": [],
      "execution_count": 10,
      "metadata": {
        "collapsed": false,
        "outputHidden": false,
        "inputHidden": false
      }
    },
    {
      "cell_type": "code",
      "source": [],
      "outputs": [],
      "execution_count": null,
      "metadata": {
        "collapsed": false,
        "outputHidden": false,
        "inputHidden": false
      }
    }
  ],
  "metadata": {
    "kernelspec": {
      "name": "py3",
      "language": "python",
      "display_name": "Python3.6"
    },
    "kernel_info": {
      "name": "py3"
    },
    "language_info": {
      "name": "python",
      "version": "3.6.4",
      "mimetype": "text/x-python",
      "codemirror_mode": {
        "name": "ipython",
        "version": 3
      },
      "pygments_lexer": "ipython3",
      "nbconvert_exporter": "python",
      "file_extension": ".py"
    },
    "nteract": {
      "version": "0.4.1"
    }
  },
  "nbformat": 4,
  "nbformat_minor": 4
}