{
 "cells": [
  {
   "cell_type": "markdown",
   "metadata": {
    "heading_collapsed": true
   },
   "source": [
    "# TCGA RNA-Seq RSEM normalized Collaborative Filtering"
   ]
  },
  {
   "cell_type": "code",
   "execution_count": 2,
   "metadata": {
    "hidden": true
   },
   "outputs": [],
   "source": [
    "%reload_ext autoreload\n",
    "%autoreload 2\n",
    "%matplotlib inline\n",
    "\n",
    "from fastai.learner import *\n",
    "from fastai.column_data import *\n",
    "\n",
    "import pandas as pd\n",
    "import numpy as np"
   ]
  },
  {
   "cell_type": "code",
   "execution_count": 3,
   "metadata": {
    "hidden": true
   },
   "outputs": [],
   "source": [
    "path='~/data/tcga/'"
   ]
  },
  {
   "cell_type": "markdown",
   "metadata": {},
   "source": [
    "## Preprocessing"
   ]
  },
  {
   "cell_type": "markdown",
   "metadata": {},
   "source": [
    "### subset"
   ]
  },
  {
   "cell_type": "code",
   "execution_count": 4,
   "metadata": {
    "hidden": true
   },
   "outputs": [
    {
     "data": {
      "text/html": [
       "<div>\n",
       "<style scoped>\n",
       "    .dataframe tbody tr th:only-of-type {\n",
       "        vertical-align: middle;\n",
       "    }\n",
       "\n",
       "    .dataframe tbody tr th {\n",
       "        vertical-align: top;\n",
       "    }\n",
       "\n",
       "    .dataframe thead th {\n",
       "        text-align: right;\n",
       "    }\n",
       "</style>\n",
       "<table border=\"1\" class=\"dataframe\">\n",
       "  <thead>\n",
       "    <tr style=\"text-align: right;\">\n",
       "      <th></th>\n",
       "      <th>LOC100130426</th>\n",
       "      <th>UBE2Q2P3</th>\n",
       "      <th>UBE2Q2P2</th>\n",
       "      <th>HMGB1P1</th>\n",
       "      <th>TIMM23</th>\n",
       "      <th>MOXD2</th>\n",
       "      <th>LOC155060</th>\n",
       "      <th>RNU12-2P</th>\n",
       "      <th>SSX9</th>\n",
       "      <th>LOC317712</th>\n",
       "      <th>...</th>\n",
       "      <th>ZXDB</th>\n",
       "      <th>ZXDC</th>\n",
       "      <th>ZYG11A</th>\n",
       "      <th>ZYG11B</th>\n",
       "      <th>ZYX</th>\n",
       "      <th>ZZEF1</th>\n",
       "      <th>ZZZ3</th>\n",
       "      <th>psiTPTE22</th>\n",
       "      <th>tAKR</th>\n",
       "      <th>cancer</th>\n",
       "    </tr>\n",
       "  </thead>\n",
       "  <tbody>\n",
       "    <tr>\n",
       "      <th>TCGA-2A-A8VL-01A-21R-A37L-07</th>\n",
       "      <td>0.0</td>\n",
       "      <td>4.375165</td>\n",
       "      <td>4.117130</td>\n",
       "      <td>6.338271</td>\n",
       "      <td>10.356474</td>\n",
       "      <td>0.0</td>\n",
       "      <td>8.299844</td>\n",
       "      <td>0.000000</td>\n",
       "      <td>0.0</td>\n",
       "      <td>0.0</td>\n",
       "      <td>...</td>\n",
       "      <td>8.150981</td>\n",
       "      <td>10.105178</td>\n",
       "      <td>5.251908</td>\n",
       "      <td>9.434774</td>\n",
       "      <td>11.169806</td>\n",
       "      <td>10.539810</td>\n",
       "      <td>8.980566</td>\n",
       "      <td>7.638647</td>\n",
       "      <td>0.000000</td>\n",
       "      <td>PRAD</td>\n",
       "    </tr>\n",
       "    <tr>\n",
       "      <th>TCGA-2A-A8VO-01A-11R-A37L-07</th>\n",
       "      <td>0.0</td>\n",
       "      <td>4.272068</td>\n",
       "      <td>3.798102</td>\n",
       "      <td>5.955957</td>\n",
       "      <td>9.754902</td>\n",
       "      <td>0.0</td>\n",
       "      <td>8.562890</td>\n",
       "      <td>0.000000</td>\n",
       "      <td>0.0</td>\n",
       "      <td>0.0</td>\n",
       "      <td>...</td>\n",
       "      <td>8.583033</td>\n",
       "      <td>9.826347</td>\n",
       "      <td>7.387885</td>\n",
       "      <td>9.562891</td>\n",
       "      <td>11.405313</td>\n",
       "      <td>9.738158</td>\n",
       "      <td>9.323495</td>\n",
       "      <td>8.188683</td>\n",
       "      <td>0.000000</td>\n",
       "      <td>PRAD</td>\n",
       "    </tr>\n",
       "    <tr>\n",
       "      <th>TCGA-2A-A8VT-01A-11R-A37L-07</th>\n",
       "      <td>0.0</td>\n",
       "      <td>5.611349</td>\n",
       "      <td>5.887579</td>\n",
       "      <td>6.561063</td>\n",
       "      <td>9.186661</td>\n",
       "      <td>0.0</td>\n",
       "      <td>9.511317</td>\n",
       "      <td>0.141302</td>\n",
       "      <td>0.0</td>\n",
       "      <td>0.0</td>\n",
       "      <td>...</td>\n",
       "      <td>9.226164</td>\n",
       "      <td>10.754531</td>\n",
       "      <td>5.475257</td>\n",
       "      <td>10.217726</td>\n",
       "      <td>10.583608</td>\n",
       "      <td>11.023235</td>\n",
       "      <td>10.423672</td>\n",
       "      <td>5.171103</td>\n",
       "      <td>-1.443791</td>\n",
       "      <td>PRAD</td>\n",
       "    </tr>\n",
       "    <tr>\n",
       "      <th>TCGA-2A-A8VV-01A-11R-A37L-07</th>\n",
       "      <td>0.0</td>\n",
       "      <td>4.441902</td>\n",
       "      <td>4.034550</td>\n",
       "      <td>6.756879</td>\n",
       "      <td>9.843444</td>\n",
       "      <td>0.0</td>\n",
       "      <td>7.889987</td>\n",
       "      <td>0.000000</td>\n",
       "      <td>0.0</td>\n",
       "      <td>0.0</td>\n",
       "      <td>...</td>\n",
       "      <td>8.718451</td>\n",
       "      <td>9.988854</td>\n",
       "      <td>6.010740</td>\n",
       "      <td>9.259221</td>\n",
       "      <td>11.578931</td>\n",
       "      <td>10.008104</td>\n",
       "      <td>10.034888</td>\n",
       "      <td>4.404563</td>\n",
       "      <td>0.000000</td>\n",
       "      <td>PRAD</td>\n",
       "    </tr>\n",
       "    <tr>\n",
       "      <th>TCGA-2A-A8VX-01A-11R-A37L-07</th>\n",
       "      <td>0.0</td>\n",
       "      <td>1.561937</td>\n",
       "      <td>3.110330</td>\n",
       "      <td>6.598782</td>\n",
       "      <td>9.701914</td>\n",
       "      <td>0.0</td>\n",
       "      <td>8.341960</td>\n",
       "      <td>0.000000</td>\n",
       "      <td>0.0</td>\n",
       "      <td>0.0</td>\n",
       "      <td>...</td>\n",
       "      <td>8.486776</td>\n",
       "      <td>9.957949</td>\n",
       "      <td>7.355339</td>\n",
       "      <td>9.468424</td>\n",
       "      <td>11.149634</td>\n",
       "      <td>9.709747</td>\n",
       "      <td>9.556007</td>\n",
       "      <td>3.765927</td>\n",
       "      <td>0.000000</td>\n",
       "      <td>PRAD</td>\n",
       "    </tr>\n",
       "  </tbody>\n",
       "</table>\n",
       "<p>5 rows × 20532 columns</p>\n",
       "</div>"
      ],
      "text/plain": [
       "                              LOC100130426  UBE2Q2P3  UBE2Q2P2   HMGB1P1  \\\n",
       "TCGA-2A-A8VL-01A-21R-A37L-07           0.0  4.375165  4.117130  6.338271   \n",
       "TCGA-2A-A8VO-01A-11R-A37L-07           0.0  4.272068  3.798102  5.955957   \n",
       "TCGA-2A-A8VT-01A-11R-A37L-07           0.0  5.611349  5.887579  6.561063   \n",
       "TCGA-2A-A8VV-01A-11R-A37L-07           0.0  4.441902  4.034550  6.756879   \n",
       "TCGA-2A-A8VX-01A-11R-A37L-07           0.0  1.561937  3.110330  6.598782   \n",
       "\n",
       "                                 TIMM23  MOXD2  LOC155060  RNU12-2P  SSX9  \\\n",
       "TCGA-2A-A8VL-01A-21R-A37L-07  10.356474    0.0   8.299844  0.000000   0.0   \n",
       "TCGA-2A-A8VO-01A-11R-A37L-07   9.754902    0.0   8.562890  0.000000   0.0   \n",
       "TCGA-2A-A8VT-01A-11R-A37L-07   9.186661    0.0   9.511317  0.141302   0.0   \n",
       "TCGA-2A-A8VV-01A-11R-A37L-07   9.843444    0.0   7.889987  0.000000   0.0   \n",
       "TCGA-2A-A8VX-01A-11R-A37L-07   9.701914    0.0   8.341960  0.000000   0.0   \n",
       "\n",
       "                              LOC317712   ...        ZXDB       ZXDC  \\\n",
       "TCGA-2A-A8VL-01A-21R-A37L-07        0.0   ...    8.150981  10.105178   \n",
       "TCGA-2A-A8VO-01A-11R-A37L-07        0.0   ...    8.583033   9.826347   \n",
       "TCGA-2A-A8VT-01A-11R-A37L-07        0.0   ...    9.226164  10.754531   \n",
       "TCGA-2A-A8VV-01A-11R-A37L-07        0.0   ...    8.718451   9.988854   \n",
       "TCGA-2A-A8VX-01A-11R-A37L-07        0.0   ...    8.486776   9.957949   \n",
       "\n",
       "                                ZYG11A     ZYG11B        ZYX      ZZEF1  \\\n",
       "TCGA-2A-A8VL-01A-21R-A37L-07  5.251908   9.434774  11.169806  10.539810   \n",
       "TCGA-2A-A8VO-01A-11R-A37L-07  7.387885   9.562891  11.405313   9.738158   \n",
       "TCGA-2A-A8VT-01A-11R-A37L-07  5.475257  10.217726  10.583608  11.023235   \n",
       "TCGA-2A-A8VV-01A-11R-A37L-07  6.010740   9.259221  11.578931  10.008104   \n",
       "TCGA-2A-A8VX-01A-11R-A37L-07  7.355339   9.468424  11.149634   9.709747   \n",
       "\n",
       "                                   ZZZ3  psiTPTE22      tAKR  cancer  \n",
       "TCGA-2A-A8VL-01A-21R-A37L-07   8.980566   7.638647  0.000000    PRAD  \n",
       "TCGA-2A-A8VO-01A-11R-A37L-07   9.323495   8.188683  0.000000    PRAD  \n",
       "TCGA-2A-A8VT-01A-11R-A37L-07  10.423672   5.171103 -1.443791    PRAD  \n",
       "TCGA-2A-A8VV-01A-11R-A37L-07  10.034888   4.404563  0.000000    PRAD  \n",
       "TCGA-2A-A8VX-01A-11R-A37L-07   9.556007   3.765927  0.000000    PRAD  \n",
       "\n",
       "[5 rows x 20532 columns]"
      ]
     },
     "execution_count": 4,
     "metadata": {},
     "output_type": "execute_result"
    }
   ],
   "source": [
    "df = pd.read_csv(path+'full.csv', sep=',', low_memory=False, index_col=[0], error_bad_lines=False); df.head()"
   ]
  },
  {
   "cell_type": "code",
   "execution_count": 5,
   "metadata": {},
   "outputs": [],
   "source": [
    "dupabbr = ['KIPAN', 'COADREAD', 'STES', 'GBMLGG']\n",
    "df = df.loc[~df['cancer'].isin(dupabbr)]\n",
    "sids = list(df.index)\n",
    "df = df.assign(sid=sids)\n",
    "df = df.loc[df.sid.str.split('-', expand=True).loc[:,3].str[0] == str(1)]"
   ]
  },
  {
   "cell_type": "code",
   "execution_count": 6,
   "metadata": {},
   "outputs": [
    {
     "data": {
      "text/html": [
       "<div>\n",
       "<style scoped>\n",
       "    .dataframe tbody tr th:only-of-type {\n",
       "        vertical-align: middle;\n",
       "    }\n",
       "\n",
       "    .dataframe tbody tr th {\n",
       "        vertical-align: top;\n",
       "    }\n",
       "\n",
       "    .dataframe thead th {\n",
       "        text-align: right;\n",
       "    }\n",
       "</style>\n",
       "<table border=\"1\" class=\"dataframe\">\n",
       "  <thead>\n",
       "    <tr style=\"text-align: right;\">\n",
       "      <th></th>\n",
       "      <th>LOC100130426</th>\n",
       "      <th>UBE2Q2P3</th>\n",
       "      <th>UBE2Q2P2</th>\n",
       "      <th>HMGB1P1</th>\n",
       "      <th>TIMM23</th>\n",
       "      <th>MOXD2</th>\n",
       "      <th>LOC155060</th>\n",
       "      <th>RNU12-2P</th>\n",
       "      <th>SSX9</th>\n",
       "      <th>LOC317712</th>\n",
       "      <th>...</th>\n",
       "      <th>ZXDC</th>\n",
       "      <th>ZYG11A</th>\n",
       "      <th>ZYG11B</th>\n",
       "      <th>ZYX</th>\n",
       "      <th>ZZEF1</th>\n",
       "      <th>ZZZ3</th>\n",
       "      <th>psiTPTE22</th>\n",
       "      <th>tAKR</th>\n",
       "      <th>cancer</th>\n",
       "      <th>sid</th>\n",
       "    </tr>\n",
       "  </thead>\n",
       "  <tbody>\n",
       "    <tr>\n",
       "      <th>0</th>\n",
       "      <td>0.0</td>\n",
       "      <td>3.896892</td>\n",
       "      <td>4.100860</td>\n",
       "      <td>6.780083</td>\n",
       "      <td>9.400669</td>\n",
       "      <td>0.0</td>\n",
       "      <td>6.815707</td>\n",
       "      <td>-1.126896</td>\n",
       "      <td>0.0</td>\n",
       "      <td>0.0</td>\n",
       "      <td>...</td>\n",
       "      <td>10.156281</td>\n",
       "      <td>6.890000</td>\n",
       "      <td>9.870372</td>\n",
       "      <td>11.149026</td>\n",
       "      <td>10.860101</td>\n",
       "      <td>9.391845</td>\n",
       "      <td>8.176973</td>\n",
       "      <td>0.0</td>\n",
       "      <td>PRAD</td>\n",
       "      <td>TCGA-CH-5761-11A-01R-1580-07</td>\n",
       "    </tr>\n",
       "    <tr>\n",
       "      <th>1</th>\n",
       "      <td>0.0</td>\n",
       "      <td>4.453195</td>\n",
       "      <td>3.944315</td>\n",
       "      <td>6.557416</td>\n",
       "      <td>9.472098</td>\n",
       "      <td>0.0</td>\n",
       "      <td>8.047926</td>\n",
       "      <td>0.000000</td>\n",
       "      <td>0.0</td>\n",
       "      <td>0.0</td>\n",
       "      <td>...</td>\n",
       "      <td>10.198511</td>\n",
       "      <td>6.278790</td>\n",
       "      <td>9.853897</td>\n",
       "      <td>11.884718</td>\n",
       "      <td>10.982852</td>\n",
       "      <td>9.634271</td>\n",
       "      <td>7.274068</td>\n",
       "      <td>0.0</td>\n",
       "      <td>PRAD</td>\n",
       "      <td>TCGA-CH-5767-11B-01R-1789-07</td>\n",
       "    </tr>\n",
       "    <tr>\n",
       "      <th>2</th>\n",
       "      <td>0.0</td>\n",
       "      <td>4.328542</td>\n",
       "      <td>1.698707</td>\n",
       "      <td>6.747101</td>\n",
       "      <td>9.177937</td>\n",
       "      <td>0.0</td>\n",
       "      <td>7.488902</td>\n",
       "      <td>0.000000</td>\n",
       "      <td>0.0</td>\n",
       "      <td>0.0</td>\n",
       "      <td>...</td>\n",
       "      <td>10.135936</td>\n",
       "      <td>7.114928</td>\n",
       "      <td>10.270056</td>\n",
       "      <td>10.742797</td>\n",
       "      <td>10.564287</td>\n",
       "      <td>9.840068</td>\n",
       "      <td>5.992070</td>\n",
       "      <td>0.0</td>\n",
       "      <td>PRAD</td>\n",
       "      <td>TCGA-CH-5768-11A-01R-1580-07</td>\n",
       "    </tr>\n",
       "    <tr>\n",
       "      <th>3</th>\n",
       "      <td>0.0</td>\n",
       "      <td>2.990047</td>\n",
       "      <td>3.867037</td>\n",
       "      <td>7.511164</td>\n",
       "      <td>9.842156</td>\n",
       "      <td>0.0</td>\n",
       "      <td>7.119329</td>\n",
       "      <td>-1.388355</td>\n",
       "      <td>0.0</td>\n",
       "      <td>0.0</td>\n",
       "      <td>...</td>\n",
       "      <td>10.231296</td>\n",
       "      <td>5.070965</td>\n",
       "      <td>9.322341</td>\n",
       "      <td>11.575876</td>\n",
       "      <td>10.209122</td>\n",
       "      <td>8.865383</td>\n",
       "      <td>5.444425</td>\n",
       "      <td>0.0</td>\n",
       "      <td>PRAD</td>\n",
       "      <td>TCGA-CH-5769-11A-01R-1580-07</td>\n",
       "    </tr>\n",
       "    <tr>\n",
       "      <th>4</th>\n",
       "      <td>0.0</td>\n",
       "      <td>3.555522</td>\n",
       "      <td>2.382750</td>\n",
       "      <td>7.505043</td>\n",
       "      <td>9.793781</td>\n",
       "      <td>0.0</td>\n",
       "      <td>6.892522</td>\n",
       "      <td>-1.374449</td>\n",
       "      <td>0.0</td>\n",
       "      <td>0.0</td>\n",
       "      <td>...</td>\n",
       "      <td>9.938051</td>\n",
       "      <td>6.076946</td>\n",
       "      <td>10.195591</td>\n",
       "      <td>11.513146</td>\n",
       "      <td>10.284839</td>\n",
       "      <td>9.934074</td>\n",
       "      <td>7.125581</td>\n",
       "      <td>0.0</td>\n",
       "      <td>PRAD</td>\n",
       "      <td>TCGA-EJ-7115-11A-01R-2118-07</td>\n",
       "    </tr>\n",
       "  </tbody>\n",
       "</table>\n",
       "<p>5 rows × 20533 columns</p>\n",
       "</div>"
      ],
      "text/plain": [
       "   LOC100130426  UBE2Q2P3  UBE2Q2P2   HMGB1P1    TIMM23  MOXD2  LOC155060  \\\n",
       "0           0.0  3.896892  4.100860  6.780083  9.400669    0.0   6.815707   \n",
       "1           0.0  4.453195  3.944315  6.557416  9.472098    0.0   8.047926   \n",
       "2           0.0  4.328542  1.698707  6.747101  9.177937    0.0   7.488902   \n",
       "3           0.0  2.990047  3.867037  7.511164  9.842156    0.0   7.119329   \n",
       "4           0.0  3.555522  2.382750  7.505043  9.793781    0.0   6.892522   \n",
       "\n",
       "   RNU12-2P  SSX9  LOC317712              ...                    ZXDC  \\\n",
       "0 -1.126896   0.0        0.0              ...               10.156281   \n",
       "1  0.000000   0.0        0.0              ...               10.198511   \n",
       "2  0.000000   0.0        0.0              ...               10.135936   \n",
       "3 -1.388355   0.0        0.0              ...               10.231296   \n",
       "4 -1.374449   0.0        0.0              ...                9.938051   \n",
       "\n",
       "     ZYG11A     ZYG11B        ZYX      ZZEF1      ZZZ3  psiTPTE22  tAKR  \\\n",
       "0  6.890000   9.870372  11.149026  10.860101  9.391845   8.176973   0.0   \n",
       "1  6.278790   9.853897  11.884718  10.982852  9.634271   7.274068   0.0   \n",
       "2  7.114928  10.270056  10.742797  10.564287  9.840068   5.992070   0.0   \n",
       "3  5.070965   9.322341  11.575876  10.209122  8.865383   5.444425   0.0   \n",
       "4  6.076946  10.195591  11.513146  10.284839  9.934074   7.125581   0.0   \n",
       "\n",
       "   cancer                           sid  \n",
       "0    PRAD  TCGA-CH-5761-11A-01R-1580-07  \n",
       "1    PRAD  TCGA-CH-5767-11B-01R-1789-07  \n",
       "2    PRAD  TCGA-CH-5768-11A-01R-1580-07  \n",
       "3    PRAD  TCGA-CH-5769-11A-01R-1580-07  \n",
       "4    PRAD  TCGA-EJ-7115-11A-01R-2118-07  \n",
       "\n",
       "[5 rows x 20533 columns]"
      ]
     },
     "execution_count": 6,
     "metadata": {},
     "output_type": "execute_result"
    }
   ],
   "source": [
    "df = df.reset_index(); df = df.drop(columns=['index']); df.head()"
   ]
  },
  {
   "cell_type": "code",
   "execution_count": 7,
   "metadata": {},
   "outputs": [
    {
     "data": {
      "text/plain": [
       "701"
      ]
     },
     "execution_count": 7,
     "metadata": {},
     "output_type": "execute_result"
    }
   ],
   "source": [
    "len(df)"
   ]
  },
  {
   "cell_type": "markdown",
   "metadata": {},
   "source": [
    "### Melt"
   ]
  },
  {
   "cell_type": "code",
   "execution_count": 9,
   "metadata": {},
   "outputs": [
    {
     "data": {
      "text/html": [
       "<div>\n",
       "<style scoped>\n",
       "    .dataframe tbody tr th:only-of-type {\n",
       "        vertical-align: middle;\n",
       "    }\n",
       "\n",
       "    .dataframe tbody tr th {\n",
       "        vertical-align: top;\n",
       "    }\n",
       "\n",
       "    .dataframe thead th {\n",
       "        text-align: right;\n",
       "    }\n",
       "</style>\n",
       "<table border=\"1\" class=\"dataframe\">\n",
       "  <thead>\n",
       "    <tr style=\"text-align: right;\">\n",
       "      <th></th>\n",
       "      <th>sid</th>\n",
       "      <th>cancer</th>\n",
       "      <th>gene</th>\n",
       "      <th>log2exp</th>\n",
       "    </tr>\n",
       "  </thead>\n",
       "  <tbody>\n",
       "    <tr>\n",
       "      <th>0</th>\n",
       "      <td>TCGA-CH-5761-11A-01R-1580-07</td>\n",
       "      <td>PRAD</td>\n",
       "      <td>LOC100130426</td>\n",
       "      <td>0.0</td>\n",
       "    </tr>\n",
       "    <tr>\n",
       "      <th>1</th>\n",
       "      <td>TCGA-CH-5767-11B-01R-1789-07</td>\n",
       "      <td>PRAD</td>\n",
       "      <td>LOC100130426</td>\n",
       "      <td>0.0</td>\n",
       "    </tr>\n",
       "    <tr>\n",
       "      <th>2</th>\n",
       "      <td>TCGA-CH-5768-11A-01R-1580-07</td>\n",
       "      <td>PRAD</td>\n",
       "      <td>LOC100130426</td>\n",
       "      <td>0.0</td>\n",
       "    </tr>\n",
       "    <tr>\n",
       "      <th>3</th>\n",
       "      <td>TCGA-CH-5769-11A-01R-1580-07</td>\n",
       "      <td>PRAD</td>\n",
       "      <td>LOC100130426</td>\n",
       "      <td>0.0</td>\n",
       "    </tr>\n",
       "    <tr>\n",
       "      <th>4</th>\n",
       "      <td>TCGA-EJ-7115-11A-01R-2118-07</td>\n",
       "      <td>PRAD</td>\n",
       "      <td>LOC100130426</td>\n",
       "      <td>0.0</td>\n",
       "    </tr>\n",
       "  </tbody>\n",
       "</table>\n",
       "</div>"
      ],
      "text/plain": [
       "                            sid cancer          gene  log2exp\n",
       "0  TCGA-CH-5761-11A-01R-1580-07   PRAD  LOC100130426      0.0\n",
       "1  TCGA-CH-5767-11B-01R-1789-07   PRAD  LOC100130426      0.0\n",
       "2  TCGA-CH-5768-11A-01R-1580-07   PRAD  LOC100130426      0.0\n",
       "3  TCGA-CH-5769-11A-01R-1580-07   PRAD  LOC100130426      0.0\n",
       "4  TCGA-EJ-7115-11A-01R-2118-07   PRAD  LOC100130426      0.0"
      ]
     },
     "execution_count": 9,
     "metadata": {},
     "output_type": "execute_result"
    }
   ],
   "source": [
    "mdf = pd.melt(df, id_vars=['sid', 'cancer'], var_name='gene', value_name='log2exp'); mdf.head()"
   ]
  },
  {
   "cell_type": "code",
   "execution_count": null,
   "metadata": {},
   "outputs": [],
   "source": [
    "len(mdf)"
   ]
  },
  {
   "cell_type": "code",
   "execution_count": null,
   "metadata": {},
   "outputs": [],
   "source": [
    "#mdf.to_csv(path+'melted.csv')"
   ]
  },
  {
   "cell_type": "markdown",
   "metadata": {
    "heading_collapsed": true
   },
   "source": [
    "## Collaborative filtering"
   ]
  },
  {
   "cell_type": "code",
   "execution_count": null,
   "metadata": {},
   "outputs": [],
   "source": [
    "#mdf = pd.read_feather(path+'melted')"
   ]
  },
  {
   "cell_type": "code",
   "execution_count": null,
   "metadata": {},
   "outputs": [],
   "source": [
    "#mdf.head()"
   ]
  },
  {
   "cell_type": "code",
   "execution_count": 10,
   "metadata": {
    "hidden": true
   },
   "outputs": [],
   "source": [
    "val_idxs = get_cv_idxs(len(mdf))\n",
    "wd=2e-4\n",
    "n_factors = 50"
   ]
  },
  {
   "cell_type": "code",
   "execution_count": 11,
   "metadata": {
    "hidden": true
   },
   "outputs": [],
   "source": [
    "cd = CollabFilterDataset.from_data_frame(path, mdf, 'sid', 'gene', 'log2exp')\n",
    "#cf = CollabFilterDataset.from_csv(path, 'melted.csv', 'sid', 'gene', 'log2exp')\n",
    "learn = cd.get_learner(n_factors, val_idxs, 64, opt_fn=optim.Adam)"
   ]
  },
  {
   "cell_type": "code",
   "execution_count": 12,
   "metadata": {},
   "outputs": [
    {
     "data": {
      "application/vnd.jupyter.widget-view+json": {
       "model_id": "3776aa88c7f84cfa94eab6bde51cee1e",
       "version_major": 2,
       "version_minor": 0
      },
      "text/plain": [
       "HBox(children=(IntProgress(value=0, description='Epoch', max=1), HTML(value='')))"
      ]
     },
     "metadata": {},
     "output_type": "display_data"
    },
    {
     "name": "stdout",
     "output_type": "stream",
     "text": [
      " 47%|████▋     | 84694/179903 [04:41<05:16, 300.77it/s, loss=6.83]"
     ]
    }
   ],
   "source": [
    "learn.lr_find()"
   ]
  },
  {
   "cell_type": "code",
   "execution_count": 13,
   "metadata": {},
   "outputs": [
    {
     "data": {
      "image/png": "[encoded data removed]",
      "text/plain": [
       "<Figure size 432x288 with 1 Axes>"
      ]
     },
     "metadata": {},
     "output_type": "display_data"
    },
    {
     "name": "stdout",
     "output_type": "stream",
     "text": [
      "\r",
      " 47%|████▋     | 84694/179903 [05:00<05:37, 282.30it/s, loss=6.83]"
     ]
    }
   ],
   "source": [
    "learn.sched.plot(100)"
   ]
  },
  {
   "cell_type": "code",
   "execution_count": 14,
   "metadata": {
    "hidden": true,
    "scrolled": true
   },
   "outputs": [
    {
     "data": {
      "application/vnd.jupyter.widget-view+json": {
       "model_id": "c754400b00b9479693a99ca77b227939",
       "version_major": 2,
       "version_minor": 0
      },
      "text/plain": [
       "HBox(children=(IntProgress(value=0, description='Epoch', max=3), HTML(value='')))"
      ]
     },
     "metadata": {},
     "output_type": "display_data"
    },
    {
     "name": "stdout",
     "output_type": "stream",
     "text": [
      "epoch      trn_loss   val_loss                                     \n",
      "    0      1.955449   2.023349  \n",
      "    1      0.882158   0.870976                                      \n",
      "    2      0.842584   0.765196                                      \n"
     ]
    },
    {
     "data": {
      "text/plain": [
       "[array([0.7652])]"
      ]
     },
     "execution_count": 14,
     "metadata": {},
     "output_type": "execute_result"
    }
   ],
   "source": [
    "lr=1e-4\n",
    "learn.fit(lr, 2, cycle_len=1, cycle_mult=2)"
   ]
  },
  {
   "cell_type": "code",
   "execution_count": 6,
   "metadata": {
    "hidden": true
   },
   "outputs": [],
   "source": [
    "preds = learn.predict()"
   ]
  },
  {
   "cell_type": "code",
   "execution_count": 7,
   "metadata": {
    "hidden": true
   },
   "outputs": [
    {
     "name": "stderr",
     "output_type": "stream",
     "text": [
      "/home/paperspace/anaconda3/envs/fastai/lib/python3.6/site-packages/matplotlib/axes/_axes.py:6462: UserWarning: The 'normed' kwarg is deprecated, and has been replaced by the 'density' kwarg.\n",
      "  warnings.warn(\"The 'normed' kwarg is deprecated, and has been \"\n",
      "/home/paperspace/anaconda3/envs/fastai/lib/python3.6/site-packages/matplotlib/axes/_axes.py:6462: UserWarning: The 'normed' kwarg is deprecated, and has been replaced by the 'density' kwarg.\n",
      "  warnings.warn(\"The 'normed' kwarg is deprecated, and has been \"\n"
     ]
    },
    {
     "data": {
      "image/png": "[encoded data removed]",
      "text/plain": [
       "<Figure size 432x432 with 3 Axes>"
      ]
     },
     "metadata": {},
     "output_type": "display_data"
    }
   ],
   "source": [
    "y=learn.data.val_y\n",
    "# import seaborns as sns\n",
    "sns.jointplot(preds, y, kind='hex', stat_func=None);"
   ]
  },
  {
   "cell_type": "code",
   "execution_count": 15,
   "metadata": {},
   "outputs": [],
   "source": [
    "learn.save('tcga_collab_normal_new')"
   ]
  },
  {
   "cell_type": "code",
   "execution_count": null,
   "metadata": {},
   "outputs": [],
   "source": [
    "#learn.load('tcga_collab_normal')"
   ]
  },
  {
   "cell_type": "markdown",
   "metadata": {},
   "source": [
    "## Analyze results"
   ]
  },
  {
   "cell_type": "markdown",
   "metadata": {},
   "source": [
    "#### shortcut to retrieve learner, model, df"
   ]
  },
  {
   "cell_type": "code",
   "execution_count": 4,
   "metadata": {},
   "outputs": [],
   "source": [
    "df = pd.read_csv(path+'full.csv', sep=',', low_memory=False, index_col=[0], error_bad_lines=False); df.head()\n",
    "dupabbr = ['KIPAN', 'COADREAD', 'STES', 'GBMLGG']\n",
    "df = df.loc[~df['cancer'].isin(dupabbr)]\n",
    "sids = list(df.index)\n",
    "df = df.assign(sid=sids)\n",
    "df = df.loc[df.sid.str.split('-', expand=True).loc[:,3].str[0] == str(1)]\n",
    "df = df.reset_index(); df = df.drop(columns=['index']); df.head()\n",
    "mdf = pd.melt(df, id_vars=['sid', 'cancer'], var_name='gene', value_name='log2exp'); mdf.head()\n",
    "val_idxs = get_cv_idxs(len(mdf))\n",
    "wd=2e-4\n",
    "n_factors = 50\n",
    "cd = CollabFilterDataset.from_data_frame(path, mdf, 'sid', 'gene', 'log2exp')\n",
    "learn = cd.get_learner(n_factors, val_idxs, 64, opt_fn=optim.Adam)\n",
    "learn.load('tcga_collab_normal_new')"
   ]
  },
  {
   "cell_type": "code",
   "execution_count": 4,
   "metadata": {},
   "outputs": [],
   "source": [
    "genes = list(df.columns[:-2])\n",
    "sids = list(df['sid'])\n",
    "cancers = list(df['cancer'])\n",
    "sid_ca = {s:c for s, c in zip(sids, cancers)}"
   ]
  },
  {
   "cell_type": "markdown",
   "metadata": {
    "heading_collapsed": true
   },
   "source": [
    "### Embedding interpretation"
   ]
  },
  {
   "cell_type": "markdown",
   "metadata": {},
   "source": [
    "### retrieve embeddings "
   ]
  },
  {
   "cell_type": "code",
   "execution_count": 5,
   "metadata": {},
   "outputs": [
    {
     "data": {
      "text/plain": [
       "EmbeddingDotBias(\n",
       "  (u): Embedding(701, 50)\n",
       "  (i): Embedding(20531, 50)\n",
       "  (ub): Embedding(701, 1)\n",
       "  (ib): Embedding(20531, 1)\n",
       ")"
      ]
     },
     "execution_count": 5,
     "metadata": {},
     "output_type": "execute_result"
    }
   ],
   "source": [
    "m=learn.model; m.cuda()"
   ]
  },
  {
   "cell_type": "markdown",
   "metadata": {},
   "source": [
    "#### gene embedding"
   ]
  },
  {
   "cell_type": "code",
   "execution_count": 6,
   "metadata": {},
   "outputs": [
    {
     "data": {
      "text/plain": [
       "(20531, 50)"
      ]
     },
     "execution_count": 6,
     "metadata": {},
     "output_type": "execute_result"
    }
   ],
   "source": [
    "geneidx = np.array([cd.item2idx[g] for g in genes])\n",
    "gene_emb = to_np(m.i(V(geneidx)))\n",
    "gene_emb.shape"
   ]
  },
  {
   "cell_type": "code",
   "execution_count": 7,
   "metadata": {},
   "outputs": [
    {
     "data": {
      "text/html": [
       "<div>\n",
       "<style scoped>\n",
       "    .dataframe tbody tr th:only-of-type {\n",
       "        vertical-align: middle;\n",
       "    }\n",
       "\n",
       "    .dataframe tbody tr th {\n",
       "        vertical-align: top;\n",
       "    }\n",
       "\n",
       "    .dataframe thead th {\n",
       "        text-align: right;\n",
       "    }\n",
       "</style>\n",
       "<table border=\"1\" class=\"dataframe\">\n",
       "  <thead>\n",
       "    <tr style=\"text-align: right;\">\n",
       "      <th></th>\n",
       "      <th>0</th>\n",
       "      <th>1</th>\n",
       "      <th>2</th>\n",
       "      <th>3</th>\n",
       "      <th>4</th>\n",
       "      <th>5</th>\n",
       "      <th>6</th>\n",
       "      <th>7</th>\n",
       "      <th>8</th>\n",
       "      <th>9</th>\n",
       "      <th>...</th>\n",
       "      <th>40</th>\n",
       "      <th>41</th>\n",
       "      <th>42</th>\n",
       "      <th>43</th>\n",
       "      <th>44</th>\n",
       "      <th>45</th>\n",
       "      <th>46</th>\n",
       "      <th>47</th>\n",
       "      <th>48</th>\n",
       "      <th>49</th>\n",
       "    </tr>\n",
       "  </thead>\n",
       "  <tbody>\n",
       "    <tr>\n",
       "      <th>LOC100130426</th>\n",
       "      <td>-0.128957</td>\n",
       "      <td>0.078128</td>\n",
       "      <td>0.078055</td>\n",
       "      <td>-0.079232</td>\n",
       "      <td>0.095939</td>\n",
       "      <td>-0.054685</td>\n",
       "      <td>0.116152</td>\n",
       "      <td>0.126091</td>\n",
       "      <td>0.103557</td>\n",
       "      <td>-0.122399</td>\n",
       "      <td>...</td>\n",
       "      <td>-0.148355</td>\n",
       "      <td>0.120640</td>\n",
       "      <td>-0.119604</td>\n",
       "      <td>0.118698</td>\n",
       "      <td>-0.091062</td>\n",
       "      <td>0.013374</td>\n",
       "      <td>0.049280</td>\n",
       "      <td>-0.086833</td>\n",
       "      <td>0.103157</td>\n",
       "      <td>0.148730</td>\n",
       "    </tr>\n",
       "    <tr>\n",
       "      <th>UBE2Q2P3</th>\n",
       "      <td>0.009592</td>\n",
       "      <td>0.071021</td>\n",
       "      <td>-0.012806</td>\n",
       "      <td>-0.050346</td>\n",
       "      <td>0.053566</td>\n",
       "      <td>-0.066957</td>\n",
       "      <td>-0.006620</td>\n",
       "      <td>0.112995</td>\n",
       "      <td>-0.008716</td>\n",
       "      <td>0.024538</td>\n",
       "      <td>...</td>\n",
       "      <td>-0.069458</td>\n",
       "      <td>0.096920</td>\n",
       "      <td>-0.105437</td>\n",
       "      <td>0.068697</td>\n",
       "      <td>-0.032473</td>\n",
       "      <td>-0.094495</td>\n",
       "      <td>0.043598</td>\n",
       "      <td>-0.051522</td>\n",
       "      <td>0.048664</td>\n",
       "      <td>0.060534</td>\n",
       "    </tr>\n",
       "    <tr>\n",
       "      <th>UBE2Q2P2</th>\n",
       "      <td>-0.083416</td>\n",
       "      <td>0.108435</td>\n",
       "      <td>-0.055251</td>\n",
       "      <td>-0.054530</td>\n",
       "      <td>0.056255</td>\n",
       "      <td>-0.118633</td>\n",
       "      <td>-0.028719</td>\n",
       "      <td>0.041668</td>\n",
       "      <td>-0.002497</td>\n",
       "      <td>0.073667</td>\n",
       "      <td>...</td>\n",
       "      <td>-0.053094</td>\n",
       "      <td>0.122536</td>\n",
       "      <td>-0.003244</td>\n",
       "      <td>0.046027</td>\n",
       "      <td>-0.099223</td>\n",
       "      <td>-0.053502</td>\n",
       "      <td>0.038912</td>\n",
       "      <td>-0.050446</td>\n",
       "      <td>0.054780</td>\n",
       "      <td>0.086739</td>\n",
       "    </tr>\n",
       "    <tr>\n",
       "      <th>HMGB1P1</th>\n",
       "      <td>-0.008469</td>\n",
       "      <td>0.004490</td>\n",
       "      <td>0.034207</td>\n",
       "      <td>0.032221</td>\n",
       "      <td>-0.022021</td>\n",
       "      <td>-0.026224</td>\n",
       "      <td>-0.033156</td>\n",
       "      <td>0.001019</td>\n",
       "      <td>0.042477</td>\n",
       "      <td>-0.050837</td>\n",
       "      <td>...</td>\n",
       "      <td>-0.038974</td>\n",
       "      <td>0.005869</td>\n",
       "      <td>0.023687</td>\n",
       "      <td>-0.050556</td>\n",
       "      <td>0.073171</td>\n",
       "      <td>0.026545</td>\n",
       "      <td>0.026570</td>\n",
       "      <td>0.056794</td>\n",
       "      <td>-0.023118</td>\n",
       "      <td>0.050305</td>\n",
       "    </tr>\n",
       "    <tr>\n",
       "      <th>TIMM23</th>\n",
       "      <td>0.065531</td>\n",
       "      <td>-0.005739</td>\n",
       "      <td>-0.048226</td>\n",
       "      <td>0.081197</td>\n",
       "      <td>-0.105546</td>\n",
       "      <td>0.022109</td>\n",
       "      <td>-0.030867</td>\n",
       "      <td>-0.052696</td>\n",
       "      <td>-0.017001</td>\n",
       "      <td>-0.044764</td>\n",
       "      <td>...</td>\n",
       "      <td>0.035412</td>\n",
       "      <td>-0.056659</td>\n",
       "      <td>0.079777</td>\n",
       "      <td>-0.077753</td>\n",
       "      <td>0.045317</td>\n",
       "      <td>0.046712</td>\n",
       "      <td>-0.033503</td>\n",
       "      <td>0.082459</td>\n",
       "      <td>-0.071942</td>\n",
       "      <td>-0.028868</td>\n",
       "    </tr>\n",
       "  </tbody>\n",
       "</table>\n",
       "<p>5 rows × 50 columns</p>\n",
       "</div>"
      ],
      "text/plain": [
       "                    0         1         2         3         4         5   \\\n",
       "LOC100130426 -0.128957  0.078128  0.078055 -0.079232  0.095939 -0.054685   \n",
       "UBE2Q2P3      0.009592  0.071021 -0.012806 -0.050346  0.053566 -0.066957   \n",
       "UBE2Q2P2     -0.083416  0.108435 -0.055251 -0.054530  0.056255 -0.118633   \n",
       "HMGB1P1      -0.008469  0.004490  0.034207  0.032221 -0.022021 -0.026224   \n",
       "TIMM23        0.065531 -0.005739 -0.048226  0.081197 -0.105546  0.022109   \n",
       "\n",
       "                    6         7         8         9     ...           40  \\\n",
       "LOC100130426  0.116152  0.126091  0.103557 -0.122399    ...    -0.148355   \n",
       "UBE2Q2P3     -0.006620  0.112995 -0.008716  0.024538    ...    -0.069458   \n",
       "UBE2Q2P2     -0.028719  0.041668 -0.002497  0.073667    ...    -0.053094   \n",
       "HMGB1P1      -0.033156  0.001019  0.042477 -0.050837    ...    -0.038974   \n",
       "TIMM23       -0.030867 -0.052696 -0.017001 -0.044764    ...     0.035412   \n",
       "\n",
       "                    41        42        43        44        45        46  \\\n",
       "LOC100130426  0.120640 -0.119604  0.118698 -0.091062  0.013374  0.049280   \n",
       "UBE2Q2P3      0.096920 -0.105437  0.068697 -0.032473 -0.094495  0.043598   \n",
       "UBE2Q2P2      0.122536 -0.003244  0.046027 -0.099223 -0.053502  0.038912   \n",
       "HMGB1P1       0.005869  0.023687 -0.050556  0.073171  0.026545  0.026570   \n",
       "TIMM23       -0.056659  0.079777 -0.077753  0.045317  0.046712 -0.033503   \n",
       "\n",
       "                    47        48        49  \n",
       "LOC100130426 -0.086833  0.103157  0.148730  \n",
       "UBE2Q2P3     -0.051522  0.048664  0.060534  \n",
       "UBE2Q2P2     -0.050446  0.054780  0.086739  \n",
       "HMGB1P1       0.056794 -0.023118  0.050305  \n",
       "TIMM23        0.082459 -0.071942 -0.028868  \n",
       "\n",
       "[5 rows x 50 columns]"
      ]
     },
     "execution_count": 7,
     "metadata": {},
     "output_type": "execute_result"
    }
   ],
   "source": [
    "gene_emb_df = pd.DataFrame(gene_emb, index=genes); gene_emb_df.head()"
   ]
  },
  {
   "cell_type": "code",
   "execution_count": 8,
   "metadata": {},
   "outputs": [],
   "source": [
    "gene_emb_df.to_csv(path+'gene_emb_normal_new.csv', sep=',')"
   ]
  },
  {
   "cell_type": "code",
   "execution_count": 9,
   "metadata": {},
   "outputs": [],
   "source": [
    "gene_emb_bias = to_np(m.ib(V(geneidx)))\n",
    "gene_emb_bias_df = pd.DataFrame(gene_emb_bias, index=genes); gene_emb_bias_df.head()\n",
    "gene_emb_bias_df.to_csv(path+'gene_emb_normal_new_bias.csv')"
   ]
  },
  {
   "cell_type": "markdown",
   "metadata": {},
   "source": [
    "#### sample embedding "
   ]
  },
  {
   "cell_type": "code",
   "execution_count": 10,
   "metadata": {},
   "outputs": [
    {
     "data": {
      "text/plain": [
       "(701, 50)"
      ]
     },
     "execution_count": 10,
     "metadata": {},
     "output_type": "execute_result"
    }
   ],
   "source": [
    "sampleidx = np.array([cd.user2idx[sid] for sid in sids])\n",
    "samp_emb = to_np(m.u(V(sampleidx)))\n",
    "samp_emb.shape"
   ]
  },
  {
   "cell_type": "code",
   "execution_count": 11,
   "metadata": {},
   "outputs": [
    {
     "data": {
      "text/html": [
       "<div>\n",
       "<style scoped>\n",
       "    .dataframe tbody tr th:only-of-type {\n",
       "        vertical-align: middle;\n",
       "    }\n",
       "\n",
       "    .dataframe tbody tr th {\n",
       "        vertical-align: top;\n",
       "    }\n",
       "\n",
       "    .dataframe thead th {\n",
       "        text-align: right;\n",
       "    }\n",
       "</style>\n",
       "<table border=\"1\" class=\"dataframe\">\n",
       "  <thead>\n",
       "    <tr style=\"text-align: right;\">\n",
       "      <th></th>\n",
       "      <th>0</th>\n",
       "      <th>1</th>\n",
       "      <th>2</th>\n",
       "      <th>3</th>\n",
       "      <th>4</th>\n",
       "      <th>5</th>\n",
       "      <th>6</th>\n",
       "      <th>7</th>\n",
       "      <th>8</th>\n",
       "      <th>9</th>\n",
       "      <th>...</th>\n",
       "      <th>40</th>\n",
       "      <th>41</th>\n",
       "      <th>42</th>\n",
       "      <th>43</th>\n",
       "      <th>44</th>\n",
       "      <th>45</th>\n",
       "      <th>46</th>\n",
       "      <th>47</th>\n",
       "      <th>48</th>\n",
       "      <th>49</th>\n",
       "    </tr>\n",
       "  </thead>\n",
       "  <tbody>\n",
       "    <tr>\n",
       "      <th>TCGA-CH-5761-11A-01R-1580-07</th>\n",
       "      <td>-0.155322</td>\n",
       "      <td>0.033345</td>\n",
       "      <td>-0.216273</td>\n",
       "      <td>0.320643</td>\n",
       "      <td>0.057964</td>\n",
       "      <td>-0.543414</td>\n",
       "      <td>-0.172860</td>\n",
       "      <td>-0.063233</td>\n",
       "      <td>-0.313928</td>\n",
       "      <td>0.217372</td>\n",
       "      <td>...</td>\n",
       "      <td>0.285497</td>\n",
       "      <td>-0.232799</td>\n",
       "      <td>0.064764</td>\n",
       "      <td>-0.302276</td>\n",
       "      <td>0.285508</td>\n",
       "      <td>-0.234046</td>\n",
       "      <td>-0.051302</td>\n",
       "      <td>0.050832</td>\n",
       "      <td>-0.079415</td>\n",
       "      <td>-0.315381</td>\n",
       "    </tr>\n",
       "    <tr>\n",
       "      <th>TCGA-CH-5767-11B-01R-1789-07</th>\n",
       "      <td>-0.044316</td>\n",
       "      <td>-0.065269</td>\n",
       "      <td>-0.211365</td>\n",
       "      <td>0.331902</td>\n",
       "      <td>0.048430</td>\n",
       "      <td>-0.477074</td>\n",
       "      <td>-0.272162</td>\n",
       "      <td>-0.141787</td>\n",
       "      <td>-0.451776</td>\n",
       "      <td>0.218535</td>\n",
       "      <td>...</td>\n",
       "      <td>0.231139</td>\n",
       "      <td>-0.209393</td>\n",
       "      <td>0.124907</td>\n",
       "      <td>-0.271998</td>\n",
       "      <td>0.335514</td>\n",
       "      <td>-0.279820</td>\n",
       "      <td>-0.022435</td>\n",
       "      <td>0.138769</td>\n",
       "      <td>-0.144753</td>\n",
       "      <td>-0.293139</td>\n",
       "    </tr>\n",
       "    <tr>\n",
       "      <th>TCGA-CH-5768-11A-01R-1580-07</th>\n",
       "      <td>-0.158286</td>\n",
       "      <td>0.087131</td>\n",
       "      <td>-0.273261</td>\n",
       "      <td>0.367651</td>\n",
       "      <td>0.044509</td>\n",
       "      <td>-0.636097</td>\n",
       "      <td>-0.171456</td>\n",
       "      <td>-0.197759</td>\n",
       "      <td>-0.280121</td>\n",
       "      <td>0.196403</td>\n",
       "      <td>...</td>\n",
       "      <td>0.249233</td>\n",
       "      <td>-0.281627</td>\n",
       "      <td>0.113077</td>\n",
       "      <td>-0.311480</td>\n",
       "      <td>0.214869</td>\n",
       "      <td>-0.140429</td>\n",
       "      <td>-0.106347</td>\n",
       "      <td>0.047031</td>\n",
       "      <td>-0.115315</td>\n",
       "      <td>-0.287367</td>\n",
       "    </tr>\n",
       "    <tr>\n",
       "      <th>TCGA-CH-5769-11A-01R-1580-07</th>\n",
       "      <td>-0.062706</td>\n",
       "      <td>0.002588</td>\n",
       "      <td>-0.179582</td>\n",
       "      <td>0.250119</td>\n",
       "      <td>0.040033</td>\n",
       "      <td>-0.380078</td>\n",
       "      <td>-0.192765</td>\n",
       "      <td>-0.028501</td>\n",
       "      <td>-0.257210</td>\n",
       "      <td>0.197123</td>\n",
       "      <td>...</td>\n",
       "      <td>0.270543</td>\n",
       "      <td>-0.246729</td>\n",
       "      <td>0.150614</td>\n",
       "      <td>-0.342070</td>\n",
       "      <td>0.305531</td>\n",
       "      <td>-0.207685</td>\n",
       "      <td>-0.057397</td>\n",
       "      <td>0.116535</td>\n",
       "      <td>-0.107561</td>\n",
       "      <td>-0.259250</td>\n",
       "    </tr>\n",
       "    <tr>\n",
       "      <th>TCGA-EJ-7115-11A-01R-2118-07</th>\n",
       "      <td>-0.157511</td>\n",
       "      <td>0.012232</td>\n",
       "      <td>-0.187401</td>\n",
       "      <td>0.343240</td>\n",
       "      <td>0.063363</td>\n",
       "      <td>-0.601202</td>\n",
       "      <td>-0.175346</td>\n",
       "      <td>-0.191425</td>\n",
       "      <td>-0.317367</td>\n",
       "      <td>0.152940</td>\n",
       "      <td>...</td>\n",
       "      <td>0.197808</td>\n",
       "      <td>-0.265846</td>\n",
       "      <td>0.140845</td>\n",
       "      <td>-0.313566</td>\n",
       "      <td>0.275594</td>\n",
       "      <td>-0.146421</td>\n",
       "      <td>-0.113797</td>\n",
       "      <td>0.101728</td>\n",
       "      <td>-0.127196</td>\n",
       "      <td>-0.314129</td>\n",
       "    </tr>\n",
       "  </tbody>\n",
       "</table>\n",
       "<p>5 rows × 50 columns</p>\n",
       "</div>"
      ],
      "text/plain": [
       "                                    0         1         2         3   \\\n",
       "TCGA-CH-5761-11A-01R-1580-07 -0.155322  0.033345 -0.216273  0.320643   \n",
       "TCGA-CH-5767-11B-01R-1789-07 -0.044316 -0.065269 -0.211365  0.331902   \n",
       "TCGA-CH-5768-11A-01R-1580-07 -0.158286  0.087131 -0.273261  0.367651   \n",
       "TCGA-CH-5769-11A-01R-1580-07 -0.062706  0.002588 -0.179582  0.250119   \n",
       "TCGA-EJ-7115-11A-01R-2118-07 -0.157511  0.012232 -0.187401  0.343240   \n",
       "\n",
       "                                    4         5         6         7   \\\n",
       "TCGA-CH-5761-11A-01R-1580-07  0.057964 -0.543414 -0.172860 -0.063233   \n",
       "TCGA-CH-5767-11B-01R-1789-07  0.048430 -0.477074 -0.272162 -0.141787   \n",
       "TCGA-CH-5768-11A-01R-1580-07  0.044509 -0.636097 -0.171456 -0.197759   \n",
       "TCGA-CH-5769-11A-01R-1580-07  0.040033 -0.380078 -0.192765 -0.028501   \n",
       "TCGA-EJ-7115-11A-01R-2118-07  0.063363 -0.601202 -0.175346 -0.191425   \n",
       "\n",
       "                                    8         9     ...           40  \\\n",
       "TCGA-CH-5761-11A-01R-1580-07 -0.313928  0.217372    ...     0.285497   \n",
       "TCGA-CH-5767-11B-01R-1789-07 -0.451776  0.218535    ...     0.231139   \n",
       "TCGA-CH-5768-11A-01R-1580-07 -0.280121  0.196403    ...     0.249233   \n",
       "TCGA-CH-5769-11A-01R-1580-07 -0.257210  0.197123    ...     0.270543   \n",
       "TCGA-EJ-7115-11A-01R-2118-07 -0.317367  0.152940    ...     0.197808   \n",
       "\n",
       "                                    41        42        43        44  \\\n",
       "TCGA-CH-5761-11A-01R-1580-07 -0.232799  0.064764 -0.302276  0.285508   \n",
       "TCGA-CH-5767-11B-01R-1789-07 -0.209393  0.124907 -0.271998  0.335514   \n",
       "TCGA-CH-5768-11A-01R-1580-07 -0.281627  0.113077 -0.311480  0.214869   \n",
       "TCGA-CH-5769-11A-01R-1580-07 -0.246729  0.150614 -0.342070  0.305531   \n",
       "TCGA-EJ-7115-11A-01R-2118-07 -0.265846  0.140845 -0.313566  0.275594   \n",
       "\n",
       "                                    45        46        47        48        49  \n",
       "TCGA-CH-5761-11A-01R-1580-07 -0.234046 -0.051302  0.050832 -0.079415 -0.315381  \n",
       "TCGA-CH-5767-11B-01R-1789-07 -0.279820 -0.022435  0.138769 -0.144753 -0.293139  \n",
       "TCGA-CH-5768-11A-01R-1580-07 -0.140429 -0.106347  0.047031 -0.115315 -0.287367  \n",
       "TCGA-CH-5769-11A-01R-1580-07 -0.207685 -0.057397  0.116535 -0.107561 -0.259250  \n",
       "TCGA-EJ-7115-11A-01R-2118-07 -0.146421 -0.113797  0.101728 -0.127196 -0.314129  \n",
       "\n",
       "[5 rows x 50 columns]"
      ]
     },
     "execution_count": 11,
     "metadata": {},
     "output_type": "execute_result"
    }
   ],
   "source": [
    "samp_emb_df = pd.DataFrame(samp_emb, index=sids); samp_emb_df.head()"
   ]
  },
  {
   "cell_type": "code",
   "execution_count": 12,
   "metadata": {},
   "outputs": [],
   "source": [
    "samp_emb_df.to_csv(path+'samp_emb_normal_new.csv', sep=',')"
   ]
  },
  {
   "cell_type": "code",
   "execution_count": 13,
   "metadata": {},
   "outputs": [],
   "source": [
    "samp_emb_bias = to_np(m.ub(V(sampleidx)))\n",
    "samp_emb_bias_df = pd.DataFrame(samp_emb_bias, index=sids); samp_emb_bias_df.head()\n",
    "samp_emb_bias_df.to_csv(path+'samp_emb_normal_new_bias.csv')"
   ]
  },
  {
   "cell_type": "code",
   "execution_count": null,
   "metadata": {},
   "outputs": [],
   "source": []
  }
 ],
 "metadata": {
  "kernelspec": {
   "display_name": "Python 3",
   "language": "python",
   "name": "python3"
  },
  "language_info": {
   "codemirror_mode": {
    "name": "ipython",
    "version": 3
   },
   "file_extension": ".py",
   "mimetype": "text/x-python",
   "name": "python",
   "nbconvert_exporter": "python",
   "pygments_lexer": "ipython3",
   "version": "3.6.5"
  },
  "toc": {
   "colors": {
    "hover_highlight": "#DAA520",
    "navigate_num": "#000000",
    "navigate_text": "#333333",
    "running_highlight": "#FF0000",
    "selected_highlight": "#FFD700",
    "sidebar_border": "#EEEEEE",
    "wrapper_background": "#FFFFFF"
   },
   "moveMenuLeft": true,
   "nav_menu": {
    "height": "123px",
    "width": "252px"
   },
   "navigate_menu": true,
   "number_sections": true,
   "sideBar": true,
   "threshold": 4,
   "toc_cell": false,
   "toc_section_display": "block",
   "toc_window_display": false,
   "widenNotebook": false
  }
 },
 "nbformat": 4,
 "nbformat_minor": 2
}
